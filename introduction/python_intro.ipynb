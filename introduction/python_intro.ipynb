{
 "cells": [
  {
   "cell_type": "markdown",
   "id": "5eb4e9d7-08d0-4d05-8f9a-c132c15bd3e1",
   "metadata": {},
   "source": [
    "# Python Introduction"
   ]
  },
  {
   "cell_type": "markdown",
   "id": "035acf05-fda1-4d52-a1e9-3e4d0cf0cebc",
   "metadata": {},
   "source": [
    "___\n",
    "## Variables"
   ]
  },
  {
   "cell_type": "markdown",
   "id": "e329f8d0-a365-4be4-b131-570ba407b6f8",
   "metadata": {},
   "source": [
    "Python is a coding language, a way of interacting with a computer to get it to perform tasks. You are currently\n",
    "working in something called a Jupyter Notebook. This is an interactive code environment that allows us to combine \n",
    "plain text cells (like in this box) and code cells that we can run."
   ]
  },
  {
   "cell_type": "code",
   "execution_count": 3,
   "id": "086d1aba-6e85-4396-9d30-ca655ea8775f",
   "metadata": {},
   "outputs": [],
   "source": [
    "x = 5"
   ]
  },
  {
   "cell_type": "markdown",
   "id": "a8be344d-2f2c-4204-bf22-acb773a9282e",
   "metadata": {},
   "source": [
    "To run a cell, like the one above press `ctrl+enter`. Once you have run a cell in a notebook, it is remebered for the rest of the notebook (unless you close it). In the previous cell we **defined** a **variable**. Variables are defined with an equals sign. That is we write \n",
    "\n",
    "*Name of the variable* = *value of the variable*\n",
    "\n",
    "Once we have defined a variable, we can **call** the variable. This means we can just write the variable name to access it's value. Run the next cell to see this"
   ]
  },
  {
   "cell_type": "code",
   "execution_count": 2,
   "id": "c2dd77a4-3266-4304-9468-7c50d1f3f148",
   "metadata": {},
   "outputs": [
    {
     "data": {
      "text/plain": [
       "5"
      ]
     },
     "execution_count": 2,
     "metadata": {},
     "output_type": "execute_result"
    }
   ],
   "source": [
    "x"
   ]
  },
  {
   "cell_type": "markdown",
   "id": "42b3df5c-1037-4738-9330-8c8f2f587b82",
   "metadata": {},
   "source": [
    "In python, it is also possible to **overwrite** a variable. If you define the same variable with a different value\n",
    "it will now take the new value"
   ]
  },
  {
   "cell_type": "code",
   "execution_count": 4,
   "id": "d81cfc8c-624f-4413-bfbf-fb2eea07555f",
   "metadata": {},
   "outputs": [
    {
     "data": {
      "text/plain": [
       "10"
      ]
     },
     "execution_count": 4,
     "metadata": {},
     "output_type": "execute_result"
    }
   ],
   "source": [
    "x=10\n",
    "x"
   ]
  },
  {
   "cell_type": "markdown",
   "id": "e9d2a8f0-eec0-4d49-8a9e-92c3cd92a6b2",
   "metadata": {},
   "source": [
    "We can do arthimetic in python. \n",
    "\n",
    "- `a + b` means a plus b\n",
    "- `a - b` means a minus b\n",
    "- `a * b` means a multiplied by b\n",
    "- `a / b` means a divided by b\n",
    "- `a**b` means a raised to the power of b"
   ]
  },
  {
   "cell_type": "code",
   "execution_count": 9,
   "id": "a8b232ec-e0e6-41b0-81c2-d2deb31c1bda",
   "metadata": {},
   "outputs": [
    {
     "data": {
      "text/plain": [
       "50"
      ]
     },
     "execution_count": 9,
     "metadata": {},
     "output_type": "execute_result"
    }
   ],
   "source": [
    "y = 2 + 3\n",
    "x * y"
   ]
  },
  {
   "cell_type": "markdown",
   "id": "05ce4e68-c6e2-4dbe-9ed5-bd1faad8761e",
   "metadata": {},
   "source": [
    "It is possible to update a variable (or overwirte it), using the previous value. Say I wanted `x` to now be equal \n",
    "to its previous value plus 1"
   ]
  },
  {
   "cell_type": "code",
   "execution_count": 12,
   "id": "b908a632-269c-42d2-9cfa-7c98fccb7e51",
   "metadata": {},
   "outputs": [
    {
     "data": {
      "text/plain": [
       "13"
      ]
     },
     "execution_count": 12,
     "metadata": {},
     "output_type": "execute_result"
    }
   ],
   "source": [
    "x = x + 1\n",
    "x"
   ]
  },
  {
   "cell_type": "markdown",
   "id": "ea7cb223-8cbb-4c21-9c04-3755d73bb58f",
   "metadata": {},
   "source": [
    "A short hand for `y = y + 1` is `y+=1`. You can try typing this in the cell below if you like"
   ]
  },
  {
   "cell_type": "code",
   "execution_count": null,
   "id": "9881feb1-9de4-4195-b8a5-54dbed9ea4b7",
   "metadata": {},
   "outputs": [],
   "source": []
  },
  {
   "cell_type": "markdown",
   "id": "739327e0-b9d8-4502-bdd5-89bc9de84481",
   "metadata": {},
   "source": [
    "___\n",
    "## Data Types"
   ]
  },
  {
   "cell_type": "markdown",
   "id": "71189f4d-e609-4565-bc09-76e2a3b085d2",
   "metadata": {},
   "source": [
    "Now that we have discussed what a variable is, we can discuss the different forms that a variable can take. All the\n",
    "variables we have defined so far have been of a numeric type. Specfically they have all been integers. In python we \n",
    "would say they were all of the type `int`. \n",
    "\n",
    "There is another numeric type that we might want to use, these are decimal numbers. Python calls these floating point numbers or `float`\n",
    "\n",
    "If we do division in python, it will default to giving the result as a `float`"
   ]
  },
  {
   "cell_type": "code",
   "execution_count": 14,
   "id": "2f11618d-4b7c-49a1-84e6-63e26912b548",
   "metadata": {},
   "outputs": [
    {
     "data": {
      "text/plain": [
       "2.0"
      ]
     },
     "execution_count": 14,
     "metadata": {},
     "output_type": "execute_result"
    }
   ],
   "source": [
    "u = 2\n",
    "v = 4\n",
    "w = v / u\n",
    "w"
   ]
  },
  {
   "cell_type": "markdown",
   "id": "a14a01f2-0441-4714-a84b-2e87cd8a305a",
   "metadata": {},
   "source": [
    "Another type of data is a string or `str`. This is a string of text and will include the white space (blank spaces) you leave inside the string. A string is commonly denoted with speech marks `\" \"`"
   ]
  },
  {
   "cell_type": "code",
   "execution_count": 16,
   "id": "f6596fa0-087f-4548-b1f3-338edf3ab3f0",
   "metadata": {},
   "outputs": [
    {
     "data": {
      "text/plain": [
       "'hello world'"
      ]
     },
     "execution_count": 16,
     "metadata": {},
     "output_type": "execute_result"
    }
   ],
   "source": [
    "my_message = \"hello world\"\n",
    "my_message"
   ]
  },
  {
   "cell_type": "markdown",
   "id": "359e649d-0fca-4c33-a75e-1ba69bd67918",
   "metadata": {},
   "source": [
    "If we wanted to see the name of a variable, not the value of it, we would make it a string"
   ]
  },
  {
   "cell_type": "code",
   "execution_count": 20,
   "id": "5ce21c43-7cfe-415c-8d26-469e4d1d5d1a",
   "metadata": {},
   "outputs": [
    {
     "data": {
      "text/plain": [
       "'x'"
      ]
     },
     "execution_count": 20,
     "metadata": {},
     "output_type": "execute_result"
    }
   ],
   "source": [
    "\"x\""
   ]
  },
  {
   "cell_type": "markdown",
   "id": "f2b0d4cf-b479-40a7-8091-37082245dc1b",
   "metadata": {},
   "source": [
    "The last type of data we need to introduce is a `list`. This is exactly what you expect it to be, it is a list of data\n",
    "(the entries can be any type of data (including a list). The format of a list in python is a pair of square brackets `[ ]` with commas separating all of the entries."
   ]
  },
  {
   "cell_type": "code",
   "execution_count": 23,
   "id": "238ba284-88ef-4f09-9b41-2f5bed08717f",
   "metadata": {},
   "outputs": [
    {
     "data": {
      "text/plain": [
       "[13, 'x', 18, 2.0, [2, 4]]"
      ]
     },
     "execution_count": 23,
     "metadata": {},
     "output_type": "execute_result"
    }
   ],
   "source": [
    "new_list = [x, \"x\", x+y, w, [u, v]]\n",
    "new_list"
   ]
  },
  {
   "cell_type": "markdown",
   "id": "92393831-62db-4780-b187-185c0810a7fb",
   "metadata": {},
   "source": [
    "If we wanted to add another entry on the end of a list we would `append` the entry to the current list. The way we write this is as follows"
   ]
  },
  {
   "cell_type": "code",
   "execution_count": 31,
   "id": "ea37551e-4d53-4e11-a115-2c445310edc8",
   "metadata": {},
   "outputs": [
    {
     "data": {
      "text/plain": [
       "[13, 'x', 18, 2.0, [2, 4], 5]"
      ]
     },
     "execution_count": 31,
     "metadata": {},
     "output_type": "execute_result"
    }
   ],
   "source": [
    "new_list.append(5)\n",
    "new_list"
   ]
  },
  {
   "cell_type": "markdown",
   "id": "5ff33ffc-8f5f-479e-9e30-6a13a9092433",
   "metadata": {},
   "source": [
    "We can also access the individual entries of a list. Python calls the first entry of a list the 0 entry (and so on).\n",
    "To access an entry we put a pair of square brackets right next to the list name and put the index number of the entry next to it"
   ]
  },
  {
   "cell_type": "code",
   "execution_count": 32,
   "id": "9cd82779-149d-44e6-9191-972c4fb4fdff",
   "metadata": {},
   "outputs": [
    {
     "data": {
      "text/plain": [
       "13"
      ]
     },
     "execution_count": 32,
     "metadata": {},
     "output_type": "execute_result"
    }
   ],
   "source": [
    "new_list[0]"
   ]
  },
  {
   "cell_type": "markdown",
   "id": "52a9066a-eb1f-4d9b-be7e-74591c73e462",
   "metadata": {},
   "source": [
    "Once we have accessed an entry of a list we can change it"
   ]
  },
  {
   "cell_type": "code",
   "execution_count": 34,
   "id": "2ba3f6e1-8e64-4e4e-9cb1-0eaee077a591",
   "metadata": {},
   "outputs": [
    {
     "data": {
      "text/plain": [
       "[14, 'x', 18, 2.0, [2, 4], 5]"
      ]
     },
     "execution_count": 34,
     "metadata": {},
     "output_type": "execute_result"
    }
   ],
   "source": [
    "new_list[0] = 14\n",
    "new_list"
   ]
  },
  {
   "cell_type": "markdown",
   "id": "26501b13-096c-412c-a444-cb73d08095f1",
   "metadata": {},
   "source": [
    "___\n",
    "#### Exercise 1a) Editing lists\n",
    "Edit `new_list` such that the entries are all just numbers (e.g. no lists or strings) and then get the code to show your new list"
   ]
  },
  {
   "cell_type": "code",
   "execution_count": null,
   "id": "97cde200-3022-462a-88f9-717e3fda0caf",
   "metadata": {},
   "outputs": [],
   "source": []
  },
  {
   "cell_type": "markdown",
   "id": "3aa3f3fa-a82d-4497-826b-7490a6877139",
   "metadata": {},
   "source": [
    "___\n",
    "## Functions"
   ]
  },
  {
   "cell_type": "markdown",
   "id": "a4dc34fc-8114-4640-801f-ad89e12161e0",
   "metadata": {},
   "source": [
    "We're about to start writing some more involved code, so it is useful now to introduce the comment. Sometimes, when\n",
    "writing code we want to make notes within the code, we call these comments. When writing a comment we start the line \n",
    "with a `#`. This means that the code knows to ignore it"
   ]
  },
  {
   "cell_type": "code",
   "execution_count": 38,
   "id": "81cb58e6-93ee-4e5a-8ae3-f5b910c28f8d",
   "metadata": {},
   "outputs": [
    {
     "data": {
      "text/plain": [
       "13"
      ]
     },
     "execution_count": 38,
     "metadata": {},
     "output_type": "execute_result"
    }
   ],
   "source": [
    "# for example, this is a comment\n",
    "x # here is another one\n",
    "#once you have written a #, the line from that point onwards stays as a comment"
   ]
  },
  {
   "cell_type": "markdown",
   "id": "7801527d-d9c9-4f9b-a7c4-938d50dbb98e",
   "metadata": {},
   "source": [
    "We often find ourselves performing the same calculation for different values. Instead of rewriting that calculation\n",
    "over and over again, we define a function that takes an `argument`. For example, the function f(x,y) takes x and y\n",
    "as arguments. \n",
    "Let's look at the syntax of how we define a function"
   ]
  },
  {
   "cell_type": "code",
   "execution_count": 40,
   "id": "5a4cd365-abaf-4cbf-82aa-fec39c2cb58b",
   "metadata": {},
   "outputs": [],
   "source": [
    "def new_function(x): # note the colon at the end of this line\n",
    "    return x**2 -5 # we indent by 4 spaces DON'T use the indent key"
   ]
  },
  {
   "cell_type": "markdown",
   "id": "f52fd22f-88ae-4016-b2ec-7bc33734b271",
   "metadata": {},
   "source": [
    "Once we've run this cell the function is now saved. In order to find the value of the function at a certain value, \n",
    "we *call* the function. That is, we write the name of the function and the value it is taking"
   ]
  },
  {
   "cell_type": "code",
   "execution_count": 41,
   "id": "4c240b9b-f02e-4a04-8d7e-5aa44a466f07",
   "metadata": {},
   "outputs": [
    {
     "data": {
      "text/plain": [
       "20"
      ]
     },
     "execution_count": 41,
     "metadata": {},
     "output_type": "execute_result"
    }
   ],
   "source": [
    "new_function(5)"
   ]
  },
  {
   "cell_type": "markdown",
   "id": "8ea69b6a-5675-4732-bc81-cc7db296fd88",
   "metadata": {},
   "source": [
    "- Functions\n",
    "  - Variables inside functions\n",
    "  - Arguments of a function\n",
    "  - Using the print function\n",
    "- Loops\n",
    "  - `for` loops\n",
    "  - `while` loops\n",
    "- Packages \n",
    "  - numpy\n",
    "    - array\n",
    "      - np.zeros\n",
    "      - np.linspace \n",
    "  - matplotlib\n",
    "  - looking up functions\n",
    "- Debugging code\n",
    "  - it's ok to get errors!\n",
    "  - error messages are useful\n",
    "  - print statements"
   ]
  }
 ],
 "metadata": {
  "kernelspec": {
   "display_name": "Python 3 (ipykernel)",
   "language": "python",
   "name": "python3"
  },
  "language_info": {
   "codemirror_mode": {
    "name": "ipython",
    "version": 3
   },
   "file_extension": ".py",
   "mimetype": "text/x-python",
   "name": "python",
   "nbconvert_exporter": "python",
   "pygments_lexer": "ipython3",
   "version": "3.13.5"
  }
 },
 "nbformat": 4,
 "nbformat_minor": 5
}

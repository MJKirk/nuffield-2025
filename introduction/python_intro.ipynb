{
 "cells": [
  {
   "cell_type": "markdown",
   "id": "5eb4e9d7-08d0-4d05-8f9a-c132c15bd3e1",
   "metadata": {},
   "source": [
    "# Python Introduction"
   ]
  },
  {
   "cell_type": "markdown",
   "id": "035acf05-fda1-4d52-a1e9-3e4d0cf0cebc",
   "metadata": {},
   "source": [
    "___\n",
    "## Variables"
   ]
  },
  {
   "cell_type": "markdown",
   "id": "e329f8d0-a365-4be4-b131-570ba407b6f8",
   "metadata": {},
   "source": [
    "Python is a coding language, a way of interacting with a computer to get it to perform tasks. You are currently\n",
    "working in something called a Jupyter Notebook. This is an interactive code environment that allows us to combine \n",
    "plain text cells (like in this box) and code cells that we can run."
   ]
  },
  {
   "cell_type": "code",
   "execution_count": 2,
   "id": "086d1aba-6e85-4396-9d30-ca655ea8775f",
   "metadata": {},
   "outputs": [],
   "source": [
    "x = 5"
   ]
  },
  {
   "cell_type": "markdown",
   "id": "a8be344d-2f2c-4204-bf22-acb773a9282e",
   "metadata": {},
   "source": [
    "To run a cell, like the one above press `ctrl+enter`. Once you have run a cell in a notebook, it is remebered for the rest of the notebook (unless you close it). In the previous cell we **defined** a **variable**. Variables are defined with an equals sign. That is we write \n",
    "\n",
    "*Name of the variable* = *value of the variable*\n",
    "\n",
    "Once we have defined a variable, we can **call** the variable. This means we can just write the variable name to access it's value. Run the next cell to see this"
   ]
  },
  {
   "cell_type": "code",
   "execution_count": 3,
   "id": "c2dd77a4-3266-4304-9468-7c50d1f3f148",
   "metadata": {},
   "outputs": [
    {
     "data": {
      "text/plain": [
       "5"
      ]
     },
     "execution_count": 3,
     "metadata": {},
     "output_type": "execute_result"
    }
   ],
   "source": [
    "x"
   ]
  },
  {
   "cell_type": "markdown",
   "id": "42b3df5c-1037-4738-9330-8c8f2f587b82",
   "metadata": {},
   "source": [
    "In python, it is also possible to **overwrite** a variable. If you define the same variable with a different value\n",
    "it will now take the new value"
   ]
  },
  {
   "cell_type": "code",
   "execution_count": 19,
   "id": "d81cfc8c-624f-4413-bfbf-fb2eea07555f",
   "metadata": {},
   "outputs": [
    {
     "data": {
      "text/plain": [
       "10"
      ]
     },
     "execution_count": 19,
     "metadata": {},
     "output_type": "execute_result"
    }
   ],
   "source": [
    "x = 10\n",
    "x"
   ]
  },
  {
   "cell_type": "markdown",
   "id": "e9d2a8f0-eec0-4d49-8a9e-92c3cd92a6b2",
   "metadata": {},
   "source": [
    "We can do arthimetic in python. \n",
    "\n",
    "- `a + b` means a plus b\n",
    "- `a - b` means a minus b\n",
    "- `a * b` means a multiplied by b\n",
    "- `a / b` means a divided by b\n",
    "- `a**b` means a raised to the power of b"
   ]
  },
  {
   "cell_type": "code",
   "execution_count": 5,
   "id": "a8b232ec-e0e6-41b0-81c2-d2deb31c1bda",
   "metadata": {},
   "outputs": [
    {
     "data": {
      "text/plain": [
       "50"
      ]
     },
     "execution_count": 5,
     "metadata": {},
     "output_type": "execute_result"
    }
   ],
   "source": [
    "y = 2 + 3\n",
    "x * y"
   ]
  },
  {
   "cell_type": "markdown",
   "id": "05ce4e68-c6e2-4dbe-9ed5-bd1faad8761e",
   "metadata": {},
   "source": [
    "It is possible to update a variable (or overwirte it), using the previous value. Say I wanted `x` to now be equal \n",
    "to its previous value plus 1"
   ]
  },
  {
   "cell_type": "code",
   "execution_count": 20,
   "id": "b908a632-269c-42d2-9cfa-7c98fccb7e51",
   "metadata": {},
   "outputs": [
    {
     "data": {
      "text/plain": [
       "11"
      ]
     },
     "execution_count": 20,
     "metadata": {},
     "output_type": "execute_result"
    }
   ],
   "source": [
    "x = x + 1\n",
    "x"
   ]
  },
  {
   "cell_type": "markdown",
   "id": "ea7cb223-8cbb-4c21-9c04-3755d73bb58f",
   "metadata": {},
   "source": [
    "A short hand for `y = y + 1` is `y += 1`. You can try typing this in the cell below if you like"
   ]
  },
  {
   "cell_type": "code",
   "execution_count": null,
   "id": "9881feb1-9de4-4195-b8a5-54dbed9ea4b7",
   "metadata": {},
   "outputs": [],
   "source": []
  },
  {
   "cell_type": "markdown",
   "id": "739327e0-b9d8-4502-bdd5-89bc9de84481",
   "metadata": {},
   "source": [
    "___\n",
    "## Data Types"
   ]
  },
  {
   "cell_type": "markdown",
   "id": "71189f4d-e609-4565-bc09-76e2a3b085d2",
   "metadata": {},
   "source": [
    "Now that we have discussed what a variable is, we can discuss the different forms that a variable can take. All the\n",
    "variables we have defined so far have been of a numeric type. Specfically they have all been integers. In python we \n",
    "would say they were all of the type `int`. \n",
    "\n",
    "There is another numeric type that we might want to use, these are decimal numbers. Python calls these floating point numbers or `float`\n",
    "\n",
    "If we do division in python, it will default to giving the result as a `float`"
   ]
  },
  {
   "cell_type": "code",
   "execution_count": 7,
   "id": "2f11618d-4b7c-49a1-84e6-63e26912b548",
   "metadata": {},
   "outputs": [
    {
     "data": {
      "text/plain": [
       "2.0"
      ]
     },
     "execution_count": 7,
     "metadata": {},
     "output_type": "execute_result"
    }
   ],
   "source": [
    "u = 2\n",
    "v = 4\n",
    "w = v / u\n",
    "w"
   ]
  },
  {
   "cell_type": "markdown",
   "id": "a14a01f2-0441-4714-a84b-2e87cd8a305a",
   "metadata": {},
   "source": [
    "Another type of data is a string or `str`. This is a string of text and will include the white space (blank spaces) you leave inside the string. A string is commonly denoted with speech marks `\" \"`"
   ]
  },
  {
   "cell_type": "code",
   "execution_count": 8,
   "id": "f6596fa0-087f-4548-b1f3-338edf3ab3f0",
   "metadata": {},
   "outputs": [
    {
     "data": {
      "text/plain": [
       "'hello world'"
      ]
     },
     "execution_count": 8,
     "metadata": {},
     "output_type": "execute_result"
    }
   ],
   "source": [
    "my_message = \"hello world\"\n",
    "my_message"
   ]
  },
  {
   "cell_type": "markdown",
   "id": "359e649d-0fca-4c33-a75e-1ba69bd67918",
   "metadata": {},
   "source": [
    "If we wanted to see the name of a variable, not the value of it, we would make it a string"
   ]
  },
  {
   "cell_type": "code",
   "execution_count": 9,
   "id": "5ce21c43-7cfe-415c-8d26-469e4d1d5d1a",
   "metadata": {},
   "outputs": [
    {
     "data": {
      "text/plain": [
       "'x'"
      ]
     },
     "execution_count": 9,
     "metadata": {},
     "output_type": "execute_result"
    }
   ],
   "source": [
    "\"x\""
   ]
  },
  {
   "cell_type": "markdown",
   "id": "f2b0d4cf-b479-40a7-8091-37082245dc1b",
   "metadata": {},
   "source": [
    "The last type of data we need to introduce is a `list`. This is exactly what you expect it to be, it is a list of data\n",
    "(the entries can be any type of data (including a list). The format of a list in python is a pair of square brackets `[ ]` with commas separating all of the entries."
   ]
  },
  {
   "cell_type": "code",
   "execution_count": 10,
   "id": "238ba284-88ef-4f09-9b41-2f5bed08717f",
   "metadata": {},
   "outputs": [
    {
     "data": {
      "text/plain": [
       "[11, 'x', 16, 2.0, [2, 4]]"
      ]
     },
     "execution_count": 10,
     "metadata": {},
     "output_type": "execute_result"
    }
   ],
   "source": [
    "new_list = [x, \"x\", x + y, w, [u, v]]\n",
    "new_list"
   ]
  },
  {
   "cell_type": "markdown",
   "id": "92393831-62db-4780-b187-185c0810a7fb",
   "metadata": {},
   "source": [
    "If we wanted to add another entry on the end of a list we would `append` the entry to the current list. The way we write this is as follows"
   ]
  },
  {
   "cell_type": "code",
   "execution_count": 11,
   "id": "ea37551e-4d53-4e11-a115-2c445310edc8",
   "metadata": {},
   "outputs": [
    {
     "data": {
      "text/plain": [
       "[11, 'x', 16, 2.0, [2, 4], 5]"
      ]
     },
     "execution_count": 11,
     "metadata": {},
     "output_type": "execute_result"
    }
   ],
   "source": [
    "new_list.append(5)\n",
    "new_list"
   ]
  },
  {
   "cell_type": "markdown",
   "id": "5ff33ffc-8f5f-479e-9e30-6a13a9092433",
   "metadata": {},
   "source": [
    "We can also access the individual entries of a list. Python calls the first entry of a list the 0 entry (and so on).\n",
    "To access an entry we put a pair of square brackets right next to the list name and put the index number of the entry next to it"
   ]
  },
  {
   "cell_type": "code",
   "execution_count": 12,
   "id": "9cd82779-149d-44e6-9191-972c4fb4fdff",
   "metadata": {},
   "outputs": [
    {
     "data": {
      "text/plain": [
       "11"
      ]
     },
     "execution_count": 12,
     "metadata": {},
     "output_type": "execute_result"
    }
   ],
   "source": [
    "new_list[0]"
   ]
  },
  {
   "cell_type": "markdown",
   "id": "52a9066a-eb1f-4d9b-be7e-74591c73e462",
   "metadata": {},
   "source": [
    "Once we have accessed an entry of a list we can change it"
   ]
  },
  {
   "cell_type": "code",
   "execution_count": 13,
   "id": "2ba3f6e1-8e64-4e4e-9cb1-0eaee077a591",
   "metadata": {},
   "outputs": [
    {
     "data": {
      "text/plain": [
       "[14, 'x', 16, 2.0, [2, 4], 5]"
      ]
     },
     "execution_count": 13,
     "metadata": {},
     "output_type": "execute_result"
    }
   ],
   "source": [
    "new_list[0] = 14\n",
    "new_list"
   ]
  },
  {
   "cell_type": "markdown",
   "id": "26501b13-096c-412c-a444-cb73d08095f1",
   "metadata": {},
   "source": [
    "___\n",
    "#### Exercise 1a) Editing lists\n",
    "Edit `new_list` such that the entries are all just numbers (e.g. no lists or strings) and then get the code to show your new list"
   ]
  },
  {
   "cell_type": "code",
   "execution_count": null,
   "id": "97cde200-3022-462a-88f9-717e3fda0caf",
   "metadata": {},
   "outputs": [],
   "source": []
  },
  {
   "cell_type": "markdown",
   "id": "3aa3f3fa-a82d-4497-826b-7490a6877139",
   "metadata": {},
   "source": [
    "___\n",
    "## Functions"
   ]
  },
  {
   "cell_type": "markdown",
   "id": "a4dc34fc-8114-4640-801f-ad89e12161e0",
   "metadata": {},
   "source": [
    "We're about to start writing some more involved code, so it is useful now to introduce the comment. Sometimes, when\n",
    "writing code we want to make notes within the code, we call these comments. When writing a comment we start the line \n",
    "with a `#`. This means that the code knows to ignore it"
   ]
  },
  {
   "cell_type": "code",
   "execution_count": 14,
   "id": "81cb58e6-93ee-4e5a-8ae3-f5b910c28f8d",
   "metadata": {},
   "outputs": [
    {
     "data": {
      "text/plain": [
       "11"
      ]
     },
     "execution_count": 14,
     "metadata": {},
     "output_type": "execute_result"
    }
   ],
   "source": [
    "# for example, this is a comment\n",
    "x # here is another one\n",
    "#once you have written a #, the line from that point onwards stays as a comment"
   ]
  },
  {
   "cell_type": "markdown",
   "id": "7801527d-d9c9-4f9b-a7c4-938d50dbb98e",
   "metadata": {},
   "source": [
    "We often find ourselves performing the same calculation for different values. Instead of rewriting that calculation\n",
    "over and over again, we define a function that takes an `argument`. For example, the function f(x,y) takes x and y\n",
    "as arguments. \n",
    "Let's look at the syntax of how we define a function"
   ]
  },
  {
   "cell_type": "code",
   "execution_count": 15,
   "id": "5a4cd365-abaf-4cbf-82aa-fec39c2cb58b",
   "metadata": {},
   "outputs": [],
   "source": [
    "def new_function(x): # note the colon at the end of this line\n",
    "    return x**2 -5 # we indent by 4 spaces DON'T use the indent key"
   ]
  },
  {
   "cell_type": "markdown",
   "id": "f52fd22f-88ae-4016-b2ec-7bc33734b271",
   "metadata": {},
   "source": [
    "Once we've run this cell the function is now saved. In order to find the value of the function at a certain value, \n",
    "we *call* the function. That is, we write the name of the function and the value it is taking"
   ]
  },
  {
   "cell_type": "code",
   "execution_count": 16,
   "id": "4c240b9b-f02e-4a04-8d7e-5aa44a466f07",
   "metadata": {},
   "outputs": [
    {
     "data": {
      "text/plain": [
       "20"
      ]
     },
     "execution_count": 16,
     "metadata": {},
     "output_type": "execute_result"
    }
   ],
   "source": [
    "new_function(5)"
   ]
  },
  {
   "cell_type": "markdown",
   "id": "a67b88c1-05f8-4fd9-b125-53a7060a613f",
   "metadata": {},
   "source": [
    "You may have noticed that in Jupyter Notebooks, the last thing called in a cell is printed to an output cell. If\n",
    "we want to print more than the last thing we have to use a `print` statement. In python, `print` is a function that takes\n",
    "as an argument the thing you want to print. If you want to print multiple things you have to separate them with commas."
   ]
  },
  {
   "cell_type": "code",
   "execution_count": 21,
   "id": "cb819a71-d982-4f46-84f9-4ea97e29b831",
   "metadata": {},
   "outputs": [
    {
     "name": "stdout",
     "output_type": "stream",
     "text": [
      "16\n",
      "My value of x = 11\n"
     ]
    }
   ],
   "source": [
    "print(x + y)\n",
    "print(\"My value of x =\", x)"
   ]
  },
  {
   "cell_type": "markdown",
   "id": "88390300-6624-4311-a082-59c3eb501ad6",
   "metadata": {},
   "source": [
    "Let's now consider a more complicated function that takes multiple arguments"
   ]
  },
  {
   "cell_type": "code",
   "execution_count": 30,
   "id": "9a6aadde-264b-4048-97c1-0f32aa8201e6",
   "metadata": {},
   "outputs": [
    {
     "name": "stdout",
     "output_type": "stream",
     "text": [
      "18\n",
      "-50\n"
     ]
    }
   ],
   "source": [
    "def multi_func(x, y):\n",
    "    x_prime = 2 * x**2 + 5  # we can define variables within a function\n",
    "    y_prime = 5*y           # doing this keeps our code more readable\n",
    "    return y_prime - x_prime  # anything idented is inside the function\n",
    "\n",
    "print(multi_func(1, 5))  # anything not indented is outside the function\n",
    "print(multi_func(5, 1))"
   ]
  },
  {
   "cell_type": "markdown",
   "id": "0b5d54e3-f86d-4d99-9a63-b2dedb2587d9",
   "metadata": {},
   "source": [
    "Notice in the above that the order of the arguments matter! When we defined the function we put x before y so we have\n",
    "to give the arguments in the same order. There is a way round this. Sometimes a function will have optional arguments.\n",
    "Instead of having to write everything in order we can specify what each variable is equal to"
   ]
  },
  {
   "cell_type": "code",
   "execution_count": 31,
   "id": "19a8ed53-49aa-4291-b27c-2a5254da2e23",
   "metadata": {},
   "outputs": [
    {
     "name": "stdout",
     "output_type": "stream",
     "text": [
      "18\n"
     ]
    }
   ],
   "source": [
    "print(multi_func(y=5,x=1))"
   ]
  },
  {
   "cell_type": "markdown",
   "id": "e396af25-aad1-499d-935a-3dba88613f43",
   "metadata": {},
   "source": [
    "One last important thing to know about functions is that if you define a variable inside a function, that variable\n",
    "is not know outside the function. Compare the following two cells"
   ]
  },
  {
   "cell_type": "code",
   "execution_count": 34,
   "id": "7dd6370f-8ea4-4b6d-9cc2-b81a4de701b2",
   "metadata": {},
   "outputs": [
    {
     "ename": "NameError",
     "evalue": "name 'x_prime' is not defined",
     "output_type": "error",
     "traceback": [
      "\u001b[31m---------------------------------------------------------------------------\u001b[39m",
      "\u001b[31mNameError\u001b[39m                                 Traceback (most recent call last)",
      "\u001b[36mCell\u001b[39m\u001b[36m \u001b[39m\u001b[32mIn[34]\u001b[39m\u001b[32m, line 1\u001b[39m\n\u001b[32m----> \u001b[39m\u001b[32m1\u001b[39m \u001b[38;5;28mprint\u001b[39m(\u001b[43mx_prime\u001b[49m)\n",
      "\u001b[31mNameError\u001b[39m: name 'x_prime' is not defined"
     ]
    }
   ],
   "source": [
    "print(x_prime)"
   ]
  },
  {
   "cell_type": "code",
   "execution_count": 33,
   "id": "137c6de0-9c49-47a7-a707-534e7dc51098",
   "metadata": {},
   "outputs": [
    {
     "name": "stdout",
     "output_type": "stream",
     "text": [
      "7\n",
      "18\n"
     ]
    }
   ],
   "source": [
    "def multi_func_testing(x, y):\n",
    "    x_prime = 2 * x**2 + 5  # we can define variables within a function\n",
    "    print(x_prime)\n",
    "    y_prime = 5*y           # doing this keeps our code more readable\n",
    "    return y_prime - x_prime\n",
    "print(multi_func_testing(1,5))"
   ]
  },
  {
   "cell_type": "markdown",
   "id": "cc32f36e-9d24-41fa-95a7-282356a9fb41",
   "metadata": {},
   "source": [
    "The error message we got is quite helpful, it tells us the type of error `NameError` and exactly what was causing it,\n",
    "in the case because we asked for `x_prime` when the computer didn't know about it.\n",
    "In the second cell, because we are inside the function the computer did know about `x_prime` so we had no problems"
   ]
  },
  {
   "cell_type": "markdown",
   "id": "87f18a54-fbde-4f12-8b31-56bc9b69587f",
   "metadata": {},
   "source": [
    "#### Exercise 1b) Functions\n",
    "\n",
    "Write a function that calculate the length of the hypotenuse for a right-angled triangle with side of length a and b.\n",
    "\n",
    "Calculate the length of the hypotenuse for i) a=3, b=4  and ii) a=$\\sqrt3$, b=1"
   ]
  },
  {
   "cell_type": "code",
   "execution_count": null,
   "id": "4d067812-6f96-4866-9106-5f64168c8fec",
   "metadata": {},
   "outputs": [],
   "source": []
  },
  {
   "cell_type": "markdown",
   "id": "d46cdf43-a455-406c-9a7e-7f6d8ce4eadc",
   "metadata": {},
   "source": [
    "___\n",
    "## Loops and Conditionals"
   ]
  },
  {
   "cell_type": "markdown",
   "id": "d5e2c476-8ac5-4a98-817d-d4766f6fcf65",
   "metadata": {},
   "source": [
    "Now we are really getting into writing the sort of algorithms that computers are very good at, but humans aren't. \n",
    "We're first going to look at `loop` which are ways of getting a computer to do a very similar thing multiple times.\n",
    "There are two types of `loop` in python:\n",
    "\n",
    "- `for loops`: these will repeat an operation for the length of a user specificed sequence\n",
    "- `while loop`: these repeat an operation while a user specified condition is true\n",
    "\n",
    "Let's first look at an example of a `while loop`"
   ]
  },
  {
   "cell_type": "code",
   "execution_count": 45,
   "id": "49ba1c18-1732-4aa5-935b-d2df97a715a6",
   "metadata": {},
   "outputs": [
    {
     "name": "stdout",
     "output_type": "stream",
     "text": [
      "0\n",
      "1\n",
      "2\n",
      "3\n",
      "4\n"
     ]
    }
   ],
   "source": [
    "x=0   # define the variable\n",
    "while x < 5:   # set the condition on the variable\n",
    "    print(x)\n",
    "    x += 1    # update the variable "
   ]
  },
  {
   "cell_type": "markdown",
   "id": "6c6d70b7-d0b8-45a6-8505-b46699e4a0ca",
   "metadata": {},
   "source": [
    "It is possible to create a while loop where the condition can never be met. For example, if we ran the code below\n",
    "(uncommented) our code would keep on printing the value 0 until we manually stopped it. For this reason you should \n",
    "always double check your while loop can end before you run it (or at the very least, stop a while loop if it's been \n",
    "running for much longer than expected)."
   ]
  },
  {
   "cell_type": "code",
   "execution_count": 1,
   "id": "dc598a3d-ddb0-4601-a237-65505e62d453",
   "metadata": {},
   "outputs": [],
   "source": [
    "# x=0\n",
    "# while x < 5:\n",
    "#     print(x)"
   ]
  },
  {
   "cell_type": "markdown",
   "id": "03ef2d4f-b679-4954-8c68-5e592e285eee",
   "metadata": {},
   "source": [
    "We can now look at `for` loops, consider the following"
   ]
  },
  {
   "cell_type": "code",
   "execution_count": 40,
   "id": "3ea1d747-d7f2-464b-a101-98d08ba49ace",
   "metadata": {},
   "outputs": [
    {
     "name": "stdout",
     "output_type": "stream",
     "text": [
      "apple\n",
      "banana\n",
      "pears\n"
     ]
    }
   ],
   "source": [
    "fruits = [\"apple\", \"banana\", \"pears\"]\n",
    "for x in fruits:  # note that like a defition of a function (and a while loop) we have a colon here\n",
    "  print(x)        # and a four space indentation here"
   ]
  },
  {
   "cell_type": "markdown",
   "id": "f871f11f-9153-46e9-94f6-c3adab8ece14",
   "metadata": {},
   "source": [
    "Here our sequence was a `list` and x is our index, it knows what part of the sequence we our in. \n",
    "\n",
    "If we want to do a loop over numbers, we could write a list containing all those numbers and use the same method as before,\n",
    "but there is an easier way..."
   ]
  },
  {
   "cell_type": "code",
   "execution_count": 36,
   "id": "af617c08-9955-4ca3-b7a4-d722193cc509",
   "metadata": {},
   "outputs": [
    {
     "name": "stdout",
     "output_type": "stream",
     "text": [
      "0\n",
      "1\n",
      "2\n",
      "3\n",
      "4\n"
     ]
    }
   ],
   "source": [
    "for i in range(5):\n",
    "    print(i)"
   ]
  },
  {
   "cell_type": "markdown",
   "id": "f22d8017-8ffd-4742-a8ea-863b5f15df97",
   "metadata": {},
   "source": [
    "The function `range(n)` will produce a sequence from 0 to n-1 and then the syntax is the same."
   ]
  },
  {
   "cell_type": "markdown",
   "id": "050c1e96-bc9b-4692-85f7-f6b5ce95955c",
   "metadata": {},
   "source": [
    "#### Exercise 1c) Loops\n",
    "\n",
    "Write a function that sums the integers from 1 to a user defined value. Then use this function to sum from one to 10."
   ]
  },
  {
   "cell_type": "code",
   "execution_count": null,
   "id": "1445849e-6eee-4f28-9ad2-b95efe6ecc41",
   "metadata": {},
   "outputs": [],
   "source": []
  },
  {
   "cell_type": "markdown",
   "id": "2d286a09-873b-456e-8c5c-7ee4a84cdec3",
   "metadata": {},
   "source": [
    "The final thing to talk about in this section is conditionals, or `if` statements. These are tests we get the computer\n",
    "to perform. So, for example, if condition 1 holds, do x, do y if condition 2 hold and do z if neither hold"
   ]
  },
  {
   "cell_type": "code",
   "execution_count": 14,
   "id": "9b6da6f2-a7a8-4ce2-ad3d-eeea0d75994d",
   "metadata": {},
   "outputs": [
    {
     "data": {
      "text/plain": [
       "'your value is negative'"
      ]
     },
     "execution_count": 14,
     "metadata": {},
     "output_type": "execute_result"
    }
   ],
   "source": [
    "def positivity_check(x):\n",
    "    if x > 0:   # we're indenting if because we are inside a function. Note the line ends in a colon\n",
    "        result = \"your value is positive\"   # and the bit we do if the if statement is true is indented\n",
    "    elif x < 0: # elif stands for else, if. This is unindented  \n",
    "        result = \"your value is negative\"\n",
    "    else:     # in the simplest case of an if statement we only need the line if, but we can also have multiple elif statements and one else\n",
    "        result = \"your value is zero\"\n",
    "    return result\n",
    "\n",
    "positivity_check(-1)"
   ]
  },
  {
   "cell_type": "markdown",
   "id": "934c1d90-5e74-4759-bf14-96df119bde25",
   "metadata": {},
   "source": [
    "Other testing conditions include: \n",
    "\n",
    "- == means equal to\n",
    "- != not equal to\n",
    "- <= means less than or equal to\n",
    "- etc."
   ]
  },
  {
   "cell_type": "markdown",
   "id": "0b19a141-97f4-47c8-8590-51ca46d315f5",
   "metadata": {},
   "source": [
    "#### Exercise 1d) Even or odd\n",
    "\n",
    "Just to tie together all that we've learnt, we're going to write a function that counts how many even numbers are\n",
    "in a given list. There are many ways of doing this but we are going to use a `for loop` and an `if` statements. Try writing this yourself and then test it with a few examples.\n",
    "\n",
    "If you are stuck, there is an example solution below - try not to look until you've really tried to work it out yourself\n",
    "\n",
    "You might find it helpful to know that `x % y` gives x *modulo* y (that is, the remainder if x is divided by y)"
   ]
  },
  {
   "cell_type": "code",
   "execution_count": null,
   "id": "23299158-f311-4e33-91e4-0222948edb86",
   "metadata": {},
   "outputs": [],
   "source": [
    "def even_number(list):\n",
    "    even = 0\n",
    "    #your code here\n",
    "    return even\n",
    "\n",
    "list_1 = [] # create an example list for yourself \n",
    "list_2 = [] # and another\n",
    "\n",
    "print(even_number(list_1))\n",
    "print(even_number(list_2))"
   ]
  },
  {
   "cell_type": "markdown",
   "id": "827393fd-f3e2-4d14-a758-537e3738a47f",
   "metadata": {
    "jp-MarkdownHeadingCollapsed": true
   },
   "source": [
    "#### Example Solution"
   ]
  },
  {
   "cell_type": "code",
   "execution_count": 5,
   "id": "eb2e7b97-6313-4104-a184-748e153d42d3",
   "metadata": {},
   "outputs": [],
   "source": [
    "def even_number(list):\n",
    "    even = 0\n",
    "    for x in list:\n",
    "        if x % 2 == 0:\n",
    "            even += 1\n",
    "    return even"
   ]
  },
  {
   "cell_type": "markdown",
   "id": "5ed6dc83-f0fd-47b2-b391-4b9f3df27139",
   "metadata": {},
   "source": [
    "____\n",
    "## Packages"
   ]
  },
  {
   "cell_type": "markdown",
   "id": "e189e911-2452-4661-80e1-84becb85d5c9",
   "metadata": {},
   "source": [
    "Python has reduced functionality on it's own, however, there are add-ons to Python we can use to make our coding \n",
    "lives easier. We call these add-ons **packages** and to use them we have to `import` them. Once we have done this once\n",
    "in a notebook, we can just use the features of the package in any cell. Let's look at the package numpy, it's name is\n",
    "short for nuermical python and it has lots of useful functions for doing maths."
   ]
  },
  {
   "cell_type": "code",
   "execution_count": 2,
   "id": "74aea397-d172-4c94-98ff-8c471da976d4",
   "metadata": {},
   "outputs": [
    {
     "name": "stdout",
     "output_type": "stream",
     "text": [
      "1.0\n",
      "1.0\n"
     ]
    }
   ],
   "source": [
    "import numpy as np # import numpy lets us use the package and we shorten it's name to np with the statement AS\n",
    "\n",
    "print(np.cos(0)) # to use a function or variable from a package we write NAME_OF_PACKAGE.NAME_OF_FUNCTION\n",
    "\n",
    "print(np.sin(np.pi / 2)) #note that sin and cos take arguments in radians and that pi is variable defined by numpy"
   ]
  },
  {
   "cell_type": "markdown",
   "id": "8adadd9c-75b8-4b62-b656-5816f84005d8",
   "metadata": {},
   "source": [
    "So far, we have use `lists` to store our numbers. When we do more involved calculations later, though, we really\n",
    "want something that allows us to peform mathematical operations with the numbers. Numpy has a function called `array` \n",
    "that turns a list into something we can do maths on"
   ]
  },
  {
   "cell_type": "code",
   "execution_count": 7,
   "id": "bebaabf9-1630-473c-a5e0-af9ddd559ee2",
   "metadata": {},
   "outputs": [
    {
     "name": "stdout",
     "output_type": "stream",
     "text": [
      "list sum = [1, 2, 4, 0.1, 7, 5, 6, 2.2, 8, 0]\n",
      "array_sum = [6.  8.  6.2 8.1 7. ]\n",
      "list times 2 = [1, 2, 4, 0.1, 7, 1, 2, 4, 0.1, 7]\n",
      "array times 2 = [ 2.   4.   8.   0.2 14. ]\n",
      "array_product = [ 5.  12.   8.8  0.8  0. ]\n"
     ]
    },
    {
     "ename": "TypeError",
     "evalue": "can't multiply sequence by non-int of type 'list'",
     "output_type": "error",
     "traceback": [
      "\u001b[31m---------------------------------------------------------------------------\u001b[39m",
      "\u001b[31mTypeError\u001b[39m                                 Traceback (most recent call last)",
      "\u001b[36mCell\u001b[39m\u001b[36m \u001b[39m\u001b[32mIn[7]\u001b[39m\u001b[32m, line 14\u001b[39m\n\u001b[32m     11\u001b[39m \u001b[38;5;28mprint\u001b[39m(\u001b[33m\"\u001b[39m\u001b[33marray times 2 =\u001b[39m\u001b[33m\"\u001b[39m, \u001b[32m2\u001b[39m* array_a) \u001b[38;5;66;03m# multiplies each element by 2\u001b[39;00m\n\u001b[32m     13\u001b[39m \u001b[38;5;28mprint\u001b[39m(\u001b[33m\"\u001b[39m\u001b[33marray_product =\u001b[39m\u001b[33m\"\u001b[39m, array_a * list_b) \u001b[38;5;66;03m# element-wise multiplication\u001b[39;00m\n\u001b[32m---> \u001b[39m\u001b[32m14\u001b[39m \u001b[38;5;28mprint\u001b[39m(\u001b[33m\"\u001b[39m\u001b[33mlist product =\u001b[39m\u001b[33m\"\u001b[39m, \u001b[43mlist_a\u001b[49m\u001b[43m \u001b[49m\u001b[43m*\u001b[49m\u001b[43m \u001b[49m\u001b[43mlist_b\u001b[49m) \u001b[38;5;66;03m# this is not a possible operation\u001b[39;00m\n",
      "\u001b[31mTypeError\u001b[39m: can't multiply sequence by non-int of type 'list'"
     ]
    }
   ],
   "source": [
    "list_a = [1, 2, 4, 0.1, 7]\n",
    "list_b = [5, 6, 2.2, 8, 0]\n",
    "\n",
    "array_a = np.array(list_a)\n",
    "array_b = np.array(list_b)\n",
    "\n",
    "print(\"list sum =\", list_a + list_b)  # this just puts list_b at the end on list_a\n",
    "print(\"array_sum =\", array_a + list_b) # element-wise addition\n",
    "\n",
    "print(\"list times 2 =\", 2 * list_a) # writes the list out twice\n",
    "print(\"array times 2 =\", 2* array_a) # multiplies each element by 2\n",
    "\n",
    "print(\"array_product =\", array_a * list_b) # element-wise multiplication\n",
    "print(\"list product =\", list_a * list_b) # this is not a possible operation"
   ]
  },
  {
   "cell_type": "markdown",
   "id": "fa6eb0d1-ccc0-4419-8cea-272f7c76a783",
   "metadata": {},
   "source": [
    "We can edit entries in an array in the same way we did in a list. For this reason we might want to quickly make an \n",
    "array of a set length that we can then edit. The function `np.zeros` takes one argument, the length of the array\n",
    "and then makes an array of that length with every entry equal to 0."
   ]
  },
  {
   "cell_type": "code",
   "execution_count": 11,
   "id": "18c0ad5f-9f19-40a7-b966-b1f283786975",
   "metadata": {},
   "outputs": [
    {
     "name": "stdout",
     "output_type": "stream",
     "text": [
      "[0. 0. 0.]\n"
     ]
    }
   ],
   "source": [
    "print(np.zeros(3))"
   ]
  },
  {
   "cell_type": "markdown",
   "id": "1b59a97c-78d6-47f0-aa4a-2b0be10ce5aa",
   "metadata": {},
   "source": [
    "Another useful package is called `matplotlib.pyplot` as you might imagine, this package is used for plotting. We are\n",
    "going to use it hear to make a simple scatter plot. Before we do that we will introduce the `np` function `linspace`.\n",
    "`linspace(start, stop, num)` gives an array of `num` linearly spaced numbers from `start` to `stop`. This is quite a useful \n",
    "function for plotting."
   ]
  },
  {
   "cell_type": "code",
   "execution_count": 13,
   "id": "18aaa397-b36e-434c-bda3-23f6b06ce505",
   "metadata": {},
   "outputs": [
    {
     "data": {
      "image/png": "[encoded data removed]",
      "text/plain": [
       "<Figure size 640x480 with 1 Axes>"
      ]
     },
     "metadata": {},
     "output_type": "display_data"
    }
   ],
   "source": [
    "import matplotlib.pyplot as plt\n",
    "\n",
    "x = np.linspace(0,5,12)  \n",
    "y = np.array([99,86,87,88,111,86,103,87,94,78,77,85])\n",
    "\n",
    "plt.scatter(x, y)\n",
    "plt.show()"
   ]
  },
  {
   "cell_type": "markdown",
   "id": "7d2cd991-61b6-451d-9d2e-2c612a3f544e",
   "metadata": {},
   "source": [
    "Within `numpy` and `matplotlib`, you should have all the functionality needed for this project. You will find that \n",
    "python is very well documented online. There are many places to look for help to find functionality, from Python's (or the packages') own online documentation to StackExchange to even coding tutorial webpages (e.g. W3Schools). \n",
    "\n",
    "We ask that you use a search engine rather than an AI interface to look up new functions :)"
   ]
  },
  {
   "cell_type": "markdown",
   "id": "c9720fa2-80ed-47dc-a0c5-b9c91ce6eb26",
   "metadata": {},
   "source": [
    "#### Exercise 1e) Matplotlib features\n",
    "\n",
    "Edit the bellow code to change the markers of the plot to be squares and the colour to be red"
   ]
  },
  {
   "cell_type": "code",
   "execution_count": 15,
   "id": "79dbd30c-e576-4c3a-9fef-8fe6f5df3683",
   "metadata": {},
   "outputs": [
    {
     "data": {
      "image/png": "[encoded data removed]",
      "text/plain": [
       "<Figure size 640x480 with 1 Axes>"
      ]
     },
     "metadata": {},
     "output_type": "display_data"
    }
   ],
   "source": [
    "import matplotlib.pyplot as plt\n",
    "\n",
    "x = np.linspace(0,5,12)  \n",
    "y = np.array([99,86,87,88,111,86,103,87,94,78,77,85])\n",
    "\n",
    "plt.scatter(x, y)\n",
    "plt.show()"
   ]
  },
  {
   "cell_type": "markdown",
   "id": "11a22fbe-949b-48ff-870f-496cea8bff2c",
   "metadata": {},
   "source": [
    "## Debugging code"
   ]
  },
  {
   "cell_type": "markdown",
   "id": "d09a6fc2-cfc4-4830-b46b-519be605aded",
   "metadata": {},
   "source": [
    "When writing very long code it is extremely difficult to make sure your code does exactly what you want it to do\n",
    "the first time around. When our code doesn't work as expected we say it has a **bug**, **debugging** is the process of\n",
    "fixing your code. It is argubly the most important skill when coding!\n",
    "\n",
    "It's really important to remember that it is ok to make mistakes, try not to worry about getting an error! It is virtually \n",
    "impossible for you to write code that will break the computer so don't wait around to run your code if you think it might work!\n",
    "\n",
    "Every type of error message in Python has been written by someone.They are designed to help you fix your issue so make sure \n",
    "you read them. If you encounter an error you don't understand, try searching online for the error or come and ask us about it!"
   ]
  },
  {
   "cell_type": "markdown",
   "id": "7c3770f5-db73-48a3-8574-b7403473385b",
   "metadata": {},
   "source": [
    "#### Exercise 1e) Using error messages\n",
    "\n",
    "Run the cells below and use the error messages to fix the code"
   ]
  },
  {
   "cell_type": "code",
   "execution_count": 17,
   "id": "730c51a9-83b8-4928-bec6-f155f6038706",
   "metadata": {},
   "outputs": [
    {
     "ename": "SyntaxError",
     "evalue": "'(' was never closed (4057561247.py, line 1)",
     "output_type": "error",
     "traceback": [
      "  \u001b[36mCell\u001b[39m\u001b[36m \u001b[39m\u001b[32mIn[17]\u001b[39m\u001b[32m, line 1\u001b[39m\n\u001b[31m    \u001b[39m\u001b[31mdef function(x:\u001b[39m\n                ^\n\u001b[31mSyntaxError\u001b[39m\u001b[31m:\u001b[39m '(' was never closed\n"
     ]
    }
   ],
   "source": [
    "def function(x:\n",
    "    return x"
   ]
  },
  {
   "cell_type": "code",
   "execution_count": 22,
   "id": "887cc9ad-3fdf-42e2-8932-9ea006a39ada",
   "metadata": {},
   "outputs": [
    {
     "ename": "NameError",
     "evalue": "name 'funct' is not defined",
     "output_type": "error",
     "traceback": [
      "\u001b[31m---------------------------------------------------------------------------\u001b[39m",
      "\u001b[31mNameError\u001b[39m                                 Traceback (most recent call last)",
      "\u001b[36mCell\u001b[39m\u001b[36m \u001b[39m\u001b[32mIn[22]\u001b[39m\u001b[32m, line 4\u001b[39m\n\u001b[32m      1\u001b[39m \u001b[38;5;28;01mdef\u001b[39;00m\u001b[38;5;250m \u001b[39m\u001b[34mfunction\u001b[39m(x):\n\u001b[32m      2\u001b[39m     \u001b[38;5;28;01mreturn\u001b[39;00m x\n\u001b[32m----> \u001b[39m\u001b[32m4\u001b[39m \u001b[38;5;28mprint\u001b[39m(\u001b[43mfunct\u001b[49m(x))\n",
      "\u001b[31mNameError\u001b[39m: name 'funct' is not defined"
     ]
    }
   ],
   "source": [
    "def function(x):\n",
    "    return x\n",
    "\n",
    "print(funct(x))"
   ]
  },
  {
   "cell_type": "code",
   "execution_count": 23,
   "id": "0c6f3865-01b4-462e-90af-52599a7c2549",
   "metadata": {},
   "outputs": [
    {
     "ename": "IndentationError",
     "evalue": "expected an indented block after 'if' statement on line 1 (3732550360.py, line 2)",
     "output_type": "error",
     "traceback": [
      "  \u001b[36mCell\u001b[39m\u001b[36m \u001b[39m\u001b[32mIn[23]\u001b[39m\u001b[32m, line 2\u001b[39m\n\u001b[31m    \u001b[39m\u001b[31mprint(true)\u001b[39m\n    ^\n\u001b[31mIndentationError\u001b[39m\u001b[31m:\u001b[39m expected an indented block after 'if' statement on line 1\n"
     ]
    }
   ],
   "source": [
    "if 5 > 0:\n",
    "print(true)"
   ]
  },
  {
   "cell_type": "code",
   "execution_count": 24,
   "id": "8c033886-4a78-4b24-a7bc-3d30f168cea2",
   "metadata": {},
   "outputs": [
    {
     "ename": "TypeError",
     "evalue": "unsupported operand type(s) for /: 'str' and 'int'",
     "output_type": "error",
     "traceback": [
      "\u001b[31m---------------------------------------------------------------------------\u001b[39m",
      "\u001b[31mTypeError\u001b[39m                                 Traceback (most recent call last)",
      "\u001b[36mCell\u001b[39m\u001b[36m \u001b[39m\u001b[32mIn[24]\u001b[39m\u001b[32m, line 3\u001b[39m\n\u001b[32m      1\u001b[39m my_number = \u001b[32m20\u001b[39m\n\u001b[32m----> \u001b[39m\u001b[32m3\u001b[39m \u001b[38;5;28mprint\u001b[39m(\u001b[33;43m\"\u001b[39;49m\u001b[33;43mmy_number\u001b[39;49m\u001b[33;43m\"\u001b[39;49m\u001b[43m \u001b[49m\u001b[43m/\u001b[49m\u001b[43m \u001b[49m\u001b[32;43m2\u001b[39;49m)\n",
      "\u001b[31mTypeError\u001b[39m: unsupported operand type(s) for /: 'str' and 'int'"
     ]
    }
   ],
   "source": [
    "my_number = 20\n",
    "\n",
    "print(\"my_number\" / 2)"
   ]
  },
  {
   "cell_type": "markdown",
   "id": "91e928c2-6e9f-4529-8f2c-e74e08f27941",
   "metadata": {},
   "source": [
    "Sometimes, when you have written your code, it will be error free but won't be doing what you want it to do. A really\n",
    "helpful technique when debugging in this situation is to make use of `print` statements to work out which exact bit of\n",
    "code is doing the wrong thing\n",
    "____"
   ]
  }
 ],
 "metadata": {
  "kernelspec": {
   "display_name": "Python 3 (ipykernel)",
   "language": "python",
   "name": "python3"
  },
  "language_info": {
   "codemirror_mode": {
    "name": "ipython",
    "version": 3
   },
   "file_extension": ".py",
   "mimetype": "text/x-python",
   "name": "python",
   "nbconvert_exporter": "python",
   "pygments_lexer": "ipython3",
   "version": "3.13.5"
  }
 },
 "nbformat": 4,
 "nbformat_minor": 5
}

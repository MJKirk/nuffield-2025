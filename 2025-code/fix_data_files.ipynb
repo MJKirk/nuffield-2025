{
 "cells": [
  {
   "cell_type": "code",
   "execution_count": 2,
   "id": "ddb340cb-0d53-4eee-8ca5-413adb3d94dd",
   "metadata": {},
   "outputs": [],
   "source": [
    "import numpy as np"
   ]
  },
  {
   "cell_type": "code",
   "execution_count": 6,
   "id": "43ebb8ae-ffbc-4759-b68a-1f7ac50cb59c",
   "metadata": {},
   "outputs": [],
   "source": [
    "hej_prediction_central = np.genfromtxt(\"data_analysis/hej-prediction.dat\", dtype=float)\n",
    "hej_prediction_lower   = np.genfromtxt(\"data_analysis/hej-prediction-lower.dat\", dtype=float)\n",
    "hej_prediction_upper   = np.genfromtxt(\"data_analysis/hej-prediction-upper.dat\", dtype=float)\n",
    "\n",
    "vbf_prediction_central = np.genfromtxt(\"data_analysis/vbf-prediction.dat\", dtype=float)\n",
    "vbf_prediction_lower   = np.genfromtxt(\"data_analysis/vbf-prediction-lower.dat\", dtype=float)\n",
    "vbf_prediction_upper   = np.genfromtxt(\"data_analysis/vbf-prediction-upper.dat\", dtype=float)"
   ]
  },
  {
   "cell_type": "code",
   "execution_count": 38,
   "id": "50a8f742-9e77-4e7c-bb55-56cb434ec694",
   "metadata": {},
   "outputs": [
    {
     "data": {
      "text/plain": [
       "array([[0.000000e+00, 5.000000e+01, 7.791556e-06, 3.055810e-06,\n",
       "        5.750654e-06],\n",
       "       [5.000000e+01, 1.000000e+02, 9.681110e-06, 3.618730e-06,\n",
       "        6.600110e-06],\n",
       "       [1.000000e+02, 1.500000e+02, 6.407210e-06, 2.298434e-06,\n",
       "        4.063100e-06],\n",
       "       [1.500000e+02, 2.000000e+02, 3.848512e-06, 1.357234e-06,\n",
       "        2.362082e-06],\n",
       "       [2.000000e+02, 2.500000e+02, 2.381986e-06, 8.331870e-07,\n",
       "        1.440736e-06],\n",
       "       [2.500000e+02, 3.000000e+02, 1.565139e-06, 5.447470e-07,\n",
       "        9.381350e-07],\n",
       "       [3.000000e+02, 3.500000e+02, 1.056912e-06, 3.665752e-07,\n",
       "        6.279220e-07],\n",
       "       [3.500000e+02, 4.000000e+02, 7.206834e-07, 2.471124e-07,\n",
       "        4.206956e-07],\n",
       "       [4.000000e+02, 4.500000e+02, 5.223260e-07, 1.788948e-07,\n",
       "        3.047262e-07],\n",
       "       [4.500000e+02, 5.000000e+02, 3.840116e-07, 1.307898e-07,\n",
       "        2.217884e-07],\n",
       "       [5.000000e+02, 5.500000e+02, 2.857204e-07, 9.650680e-08,\n",
       "        1.625876e-07],\n",
       "       [5.500000e+02, 6.000000e+02, 2.234054e-07, 7.584670e-08,\n",
       "        1.287552e-07],\n",
       "       [6.000000e+02, 6.500000e+02, 1.744708e-07, 5.875370e-08,\n",
       "        9.850600e-08],\n",
       "       [6.500000e+02, 7.000000e+02, 1.352438e-07, 4.527954e-08,\n",
       "        7.577260e-08],\n",
       "       [7.000000e+02, 7.500000e+02, 1.110809e-07, 3.727446e-08,\n",
       "        6.218300e-08],\n",
       "       [7.500000e+02, 8.000000e+02, 8.716102e-08, 2.928678e-08,\n",
       "        4.942558e-08],\n",
       "       [8.000000e+02, 8.500000e+02, 6.996328e-08, 2.314944e-08,\n",
       "        3.840412e-08],\n",
       "       [8.500000e+02, 9.000000e+02, 6.925986e-08, 2.326900e-08,\n",
       "        3.800034e-08],\n",
       "       [9.000000e+02, 9.500000e+02, 4.725584e-08, 1.559790e-08,\n",
       "        2.583344e-08],\n",
       "       [9.500000e+02, 1.000000e+03, 4.104592e-08, 1.350684e-08,\n",
       "        2.233660e-08]])"
      ]
     },
     "execution_count": 38,
     "metadata": {},
     "output_type": "execute_result"
    }
   ],
   "source": [
    "new_hej_prediction = hej_prediction_central.copy()\n",
    "new_hej_prediction[:,3] = hej_prediction_central[:,2] - hej_prediction_upper[:,2]\n",
    "new_hej_prediction[:,4] = hej_prediction_lower[:,2] - hej_prediction_central[:,2]\n",
    "np.savetxt(\"new-hej-prediction.dat\", new_hej_prediction)\n",
    "new_hej_prediction"
   ]
  },
  {
   "cell_type": "code",
   "execution_count": 42,
   "id": "4c1ee8f6-fb82-44af-ae55-454d59f66eab",
   "metadata": {},
   "outputs": [
    {
     "data": {
      "text/plain": [
       "array([[0.000000e+00, 5.000000e+01, 7.079762e-08, 5.165620e-09,\n",
       "        6.467440e-09],\n",
       "       [5.000000e+01, 1.000000e+02, 1.501465e-05, 6.214100e-07,\n",
       "        7.972700e-07],\n",
       "       [1.000000e+02, 1.500000e+02, 2.195184e-06, 9.097400e-08,\n",
       "        1.163600e-07],\n",
       "       [1.500000e+02, 2.000000e+02, 2.891856e-06, 8.066400e-08,\n",
       "        1.088280e-07],\n",
       "       [2.000000e+02, 2.500000e+02, 3.399628e-06, 5.751200e-08,\n",
       "        8.515400e-08],\n",
       "       [2.500000e+02, 3.000000e+02, 3.565064e-06, 2.895400e-08,\n",
       "        5.303000e-08],\n",
       "       [3.000000e+02, 3.500000e+02, 3.531250e-06, 3.586000e-09,\n",
       "        2.336200e-08],\n",
       "       [3.500000e+02, 4.000000e+02, 3.371748e-06, 1.676200e-08,\n",
       "        1.312000e-09],\n",
       "       [4.000000e+02, 4.500000e+02, 3.154862e-06, 3.206400e-08,\n",
       "        2.051600e-08],\n",
       "       [4.500000e+02, 5.000000e+02, 2.923400e-06, 4.318600e-08,\n",
       "        3.493200e-08],\n",
       "       [5.000000e+02, 5.500000e+02, 2.681422e-06, 5.032400e-08,\n",
       "        4.476000e-08],\n",
       "       [5.500000e+02, 6.000000e+02, 2.449610e-06, 5.506200e-08,\n",
       "        5.172800e-08],\n",
       "       [6.000000e+02, 6.500000e+02, 2.237540e-06, 5.759600e-08,\n",
       "        5.599800e-08],\n",
       "       [6.500000e+02, 7.000000e+02, 2.025040e-06, 5.824300e-08,\n",
       "        5.803400e-08],\n",
       "       [7.000000e+02, 7.500000e+02, 1.844444e-06, 5.822400e-08,\n",
       "        5.908800e-08],\n",
       "       [7.500000e+02, 8.000000e+02, 1.680049e-06, 5.743100e-08,\n",
       "        5.913200e-08],\n",
       "       [8.000000e+02, 8.500000e+02, 1.520698e-06, 5.575600e-08,\n",
       "        5.809900e-08],\n",
       "       [8.500000e+02, 9.000000e+02, 1.379168e-06, 5.368000e-08,\n",
       "        5.647400e-08],\n",
       "       [9.000000e+02, 9.500000e+02, 1.250528e-06, 5.139600e-08,\n",
       "        5.452200e-08],\n",
       "       [9.500000e+02, 1.000000e+03, 1.137421e-06, 4.908700e-08,\n",
       "        5.245500e-08]])"
      ]
     },
     "execution_count": 42,
     "metadata": {},
     "output_type": "execute_result"
    }
   ],
   "source": [
    "new_vbf_prediction = vbf_prediction_central.copy()\n",
    "new_vbf_prediction[:7,3] = vbf_prediction_upper[:7,2] - vbf_prediction_central[:7,2]\n",
    "new_vbf_prediction[7:,3] = vbf_prediction_central[7:,2] - vbf_prediction_upper[7:,2]\n",
    "new_vbf_prediction[:7,4] = vbf_prediction_central[:7,2] - vbf_prediction_lower[:7,2]\n",
    "new_vbf_prediction[7:,4] = vbf_prediction_lower[7:,2] - vbf_prediction_central[7:,2]\n",
    "np.savetxt(\"new-vbf-prediction.dat\", new_vbf_prediction)\n",
    "new_vbf_prediction"
   ]
  },
  {
   "cell_type": "code",
   "execution_count": null,
   "id": "0176dcec-ccb8-4d97-9106-b4c10a50827d",
   "metadata": {},
   "outputs": [],
   "source": []
  }
 ],
 "metadata": {
  "kernelspec": {
   "display_name": "Python 3 (ipykernel)",
   "language": "python",
   "name": "python3"
  },
  "language_info": {
   "codemirror_mode": {
    "name": "ipython",
    "version": 3
   },
   "file_extension": ".py",
   "mimetype": "text/x-python",
   "name": "python",
   "nbconvert_exporter": "python",
   "pygments_lexer": "ipython3",
   "version": "3.12.0"
  }
 },
 "nbformat": 4,
 "nbformat_minor": 5
}

{
 "cells": [
  {
   "cell_type": "markdown",
   "id": "582a16ae-2f5d-44c0-8409-7d84e809f61e",
   "metadata": {},
   "source": [
    "# Experimenting with Monte-Carlo methods"
   ]
  },
  {
   "cell_type": "markdown",
   "id": "093a1da8-4e63-467d-9f45-4bf0cde4a297",
   "metadata": {},
   "source": [
    "Now building on what you did in the first notebook, we are going to experiment a bit with Monte-Carlo methods and convince ourselves they work."
   ]
  },
  {
   "cell_type": "markdown",
   "id": "dbeb166c-58f1-4de4-adb3-dea6aa854741",
   "metadata": {},
   "source": [
    "____\n",
    "## Average value of a dice roll\n",
    "\n",
    "First we will check some of the statistics calculations we did yesterday - that the average value of a dice roll is 3.5, and that the average value of a dice roll **squared** is $91/6 \\approx 15.17$.\n",
    "Write two functions to evaluate these for `n` dice rolls"
   ]
  },
  {
   "cell_type": "code",
   "execution_count": null,
   "id": "b25589d8-42f6-4ce4-99dd-19c0fb3e0709",
   "metadata": {},
   "outputs": [],
   "source": [
    "import numpy as np\n",
    "from numpy import random\n",
    "\n",
    "# Hint: For both functions you will want to use the random.randint function, where random.randint(a,b) will give a \n",
    "# random integer greater than or equal to a, but less than b, to simulate a dice roll\n",
    "\n",
    "def average_dice(n):\n",
    "    # Write some code here\n",
    "\n",
    "def average_dice_squared(n):\n",
    "    # Write some code here too!"
   ]
  },
  {
   "cell_type": "markdown",
   "id": "ce397c25-45ec-4267-9b90-4234ce10d09e",
   "metadata": {},
   "source": [
    "Now plot the results your function give, as a function of `n`, i.e. how many dice throws you make.\n",
    "We've sketched out the sort of code you will need"
   ]
  },
  {
   "cell_type": "code",
   "execution_count": null,
   "id": "c2c78783-8fee-43b2-b835-937c9e879485",
   "metadata": {},
   "outputs": [],
   "source": [
    "import matplotlib.pyplot as plt\n",
    "\n",
    "max_n =  # Some large number here\n",
    "n_values = np.arange(1, max_n+1)\n",
    "\n",
    "# Set up an empty array to store the results in\n",
    "average_vals = np.zeros(max_n)\n",
    "\n",
    "# Now write a loop to fill the average_vals array\n",
    "\n",
    "plt.scatter(n_values, average_vals)"
   ]
  },
  {
   "cell_type": "markdown",
   "id": "6c1b78e8-b0cc-464e-ade4-0de694492443",
   "metadata": {},
   "source": [
    "___\n",
    "\n",
    "Now we will use the function you wrote in Exercise 1c, `integrate_x_0_1`, and show that this also converges to the correct answer, just like the average dice roll functions did."
   ]
  },
  {
   "cell_type": "code",
   "execution_count": null,
   "id": "1dfc3359-6440-426f-8c02-98c41fbc9304",
   "metadata": {},
   "outputs": [],
   "source": [
    "# Same idea as above, but now with your old function integrate_x_0_1"
   ]
  },
  {
   "cell_type": "markdown",
   "id": "1dca397b-2de7-46f1-a8d6-097403b9b87c",
   "metadata": {},
   "source": [
    "___\n",
    "Finally, let's do something more complicated - let's try and estimate the integral\n",
    "$$\n",
    "\\int_0^1 e^{\\sin (x)} dx\n",
    "$$\n",
    "which has no analytic solution!\n",
    "To start with, modify your `integrate_x_0_1` so it takes a second argument, which is a python function representing the integrand.\n",
    "We've given you a simple function to start with `my_simple_function`, such that `integrate_myfunction_0_1(n, my_simple_function)` should give (approximately) the same result as `integrate_x_0_1`."
   ]
  },
  {
   "cell_type": "code",
   "execution_count": null,
   "id": "f9d5c76e-a4c5-467f-8c35-51c88f5e4470",
   "metadata": {},
   "outputs": [],
   "source": [
    "def integrate_myfunction_0_1(n_points, my_function):\n",
    "    # What should go here now?\n",
    "\n",
    "def my_simple_function(x):\n",
    "    return x\n",
    "\n",
    "print(integrate_x_0_1(100))\n",
    "print(integrate_myfunction_0_1(100, my_simple_function))"
   ]
  },
  {
   "cell_type": "markdown",
   "id": "e92086d2-ff9f-421f-827a-ad47fd07a81a",
   "metadata": {},
   "source": [
    "Now define a new function that represents the integrand of the integral above, and see what your Monte-Carlo tells you the result is for `n_points = 1`, `10` or `50`. What do you think the correct answer is? How might you decide? (Hint: plotting the result for different values of `n_points` as you did above might be useful )"
   ]
  }
 ],
 "metadata": {
  "kernelspec": {
   "display_name": "Python 3 (ipykernel)",
   "language": "python",
   "name": "python3"
  },
  "language_info": {
   "codemirror_mode": {
    "name": "ipython",
    "version": 3
   },
   "file_extension": ".py",
   "mimetype": "text/x-python",
   "name": "python",
   "nbconvert_exporter": "python",
   "pygments_lexer": "ipython3",
   "version": "3.13.5"
  }
 },
 "nbformat": 4,
 "nbformat_minor": 5
}

{
 "cells": [
  {
   "cell_type": "markdown",
   "metadata": {},
   "source": [
    "# New Physics Searches at the Large Hadron Collider - Introduction"
   ]
  },
  {
   "cell_type": "markdown",
   "metadata": {},
   "source": [
    "In 2012, the Large Hadron Collider (LHC) found evidence for the existence of the **Higgs Boson**. This particle was the final plank of the **Standard Model** (SM) of particle physics, a predicitve theory that explains the behaviour of the fundamental particles that make up our universe. While SM is a very successful theory there are many questions it cannot answer, such as what **dark matter** is. For this reason, particle physics want to test their **models** to even higher energies to find where the SM stops being a good model of reality.\n",
    "\n",
    "The next era of the LHC (called the **high-luminosity** LHC, more on that later!) will be coming to an end the late 2030s. There is a proposal to build an even larger collider called the FCC that will continue to look for new physics at even higher energies, from around 2040-2070 by colliding **electrons** together (FCC-ee)."
   ]
  },
  {
   "cell_type": "markdown",
   "metadata": {},
   "source": [
    "## Your Task"
   ]
  },
  {
   "cell_type": "markdown",
   "metadata": {},
   "source": [
    "It is 2045 and you are a **phenomenologist** - it is your job to take particle physics models and make predicitions for experiments like FCC-ee. You will then compare them against experimental data and work out if we have any evidence of new physics beyond the Standard Model (BSM).\n",
    "\n",
    "This notebook will guide you through the background relevant to the research project on comparing theoretical SM and BSM predictions to simulated data for $e^+e^- \\to e^+e^-$ scattering at the FCC-ee."
   ]
  },
  {
   "cell_type": "markdown",
   "metadata": {},
   "source": [
    "## Events at hadron collider experiments"
   ]
  },
  {
   "cell_type": "markdown",
   "metadata": {},
   "source": [
    "The FCC-ee will collide electrons and **positrons**, at high energies and collect information on the debris produced in each collision.\n",
    "\n",
    "The experiments will have detectors which record individual collison **events**. These detectors will work in very similar ways to the ones at the LHC such as [ATLAS](https://www.google.com/search?client=firefox-b-d&q=atlasch) and [CMS](https://home.cern/science/experiments/cms). \n",
    "\n",
    "Below we display a typical event produced at a particle collider. This one is actually a one we might have seen in 2012, a $pp$ collision event with a Higgs boson produced, which proceeds to decay to four electrons:\n",
    "\n",
    "$$pp\\rightarrow (H\\rightarrow e^+ e^- e^+ e^-)\\,+\\mathrm{background}$$"
   ]
  },
  {
   "cell_type": "markdown",
   "metadata": {},
   "source": [
    "<img src=\"h-event-display.jpg\" alt=\"Higgs production event display from the LHC\" width=\"700\"/>"
   ]
  },
  {
   "cell_type": "markdown",
   "metadata": {},
   "source": [
    "Analysing multiple events can allow us to understand the structure of different sectors of the **Standard Model**, and detect new physics beyond the Standard Model.\n",
    "________"
   ]
  },
  {
   "cell_type": "markdown",
   "metadata": {},
   "source": [
    "### Cross sections"
   ]
  },
  {
   "cell_type": "markdown",
   "metadata": {},
   "source": [
    "The quantum nature of the interactions we observe means that we can not determine the precise scattering process which occurred in the hard interaction.\n",
    "\n",
    "Experiments analyse the final states of an ensemble of events, and use this to determine the **cross section** ($\\sigma$) which expresses the probability of a particular process occuring:\n",
    "\n",
    "$$\\sigma=\\frac{1}{L(t)}\\frac{\\mathrm{d}N}{\\mathrm{d}t}$$\n",
    "\n",
    "Here $L(t)$ is the **instantaneous luminosity** or the rate of collisions of initial state particles per unit area, and $N$ is the number of interactions $\\rightarrow$ $\\mathrm{d}N/\\mathrm{d}t$ is the interaction rate.\n",
    "\n",
    "The cross section is measured typically measured in units of Barn (b), where 1b = $10^{-28}\\mathrm{cm}^{2}$.\n",
    "\n",
    "Another quantity is **integrated luminosity**, usually written as $L_\\mathrm{int}$, which is formally defined as $\\int L(t) dt$, and represent the total luminosity accumulated over time as the experiment is run.\n",
    "This quantity is useful, as then the total number of events seen is given by\n",
    "$$ N = L_\\mathrm{int} \\times \\sigma \\,.$$\n"
   ]
  },
  {
   "cell_type": "markdown",
   "metadata": {},
   "source": [
    "#### Bonus Exercise: Dimensional analysis\n",
    "What are the dimensions of the instantaneous luminosity $L(t)$ and the integrated luminosity $L_\\mathrm{int}$, if the cross section is measured in b?\n",
    "___"
   ]
  },
  {
   "cell_type": "markdown",
   "metadata": {},
   "source": [
    "#### Bonus Exercise: High Luminosity\n",
    "What will increase at the High-Luminosity LHC compared to now?\n",
    "___"
   ]
  },
  {
   "cell_type": "markdown",
   "metadata": {},
   "source": [
    "\n",
    "From many events over a period of time, and with an understanding of the luminosity we can calculate the cross section for a process!\n",
    "\n",
    "E.g. Looking over all Higgs production events over a certain time, we can calculate the Higgs production cross section.\n",
    "\n",
    "**Trivia**: The name *cross section* relates to classical ideas of particle collisions - this was previously thought to be an effective area between colliding spheres and the name stuck! "
   ]
  },
  {
   "cell_type": "markdown",
   "metadata": {},
   "source": [
    "___\n",
    "#### Exercise 1a: Computing cross sections"
   ]
  },
  {
   "cell_type": "markdown",
   "metadata": {},
   "source": [
    "Write a function in python to calculate the cross section below, assuming a constant rate of interation"
   ]
  },
  {
   "cell_type": "code",
   "execution_count": 1,
   "metadata": {},
   "outputs": [],
   "source": [
    "# Define a function for the cross section, assuming\n",
    "# time is given in seconds, and the luminosity in pb/s.\n",
    "\n",
    "# Comments in python start with '#'\n",
    "\n",
    "def cross_section(luminosity, interactions, time):\n",
    "\n",
    "    # Your code here\n",
    "\n",
    "    # Hints:\n",
    "    # Arithmetic in python:\n",
    "    # a + b MEANS a plus b\n",
    "    # a - b MEANS a minus b\n",
    "    # a * b MEANS a multiplied by b\n",
    "    # a / b MEANS a divided by b\n",
    "    # a**b MEANS a raised to the power of b\n",
    "\n",
    "    return # Replace this comment by the value you want to return"
   ]
  },
  {
   "cell_type": "markdown",
   "metadata": {},
   "source": [
    "For a luminosity of $L=10 000$ pb/s, and $N=1.5768\\times 10^{12}$ interactions over a time $t=1$ year, what is the total cross section?"
   ]
  },
  {
   "cell_type": "code",
   "execution_count": 2,
   "metadata": {},
   "outputs": [],
   "source": [
    "# Use the cross section function you defined earlier\n",
    "# with the given values to calculate the cross section.\n",
    "\n",
    "# Be careful with your units!\n",
    "\n",
    "# Hints:\n",
    "# x = some_function() assigns to x the value of a function called 'some_function()'\n",
    "# Standard form in python: 1E12 = 1 * 10**12\n",
    "# print(variable_name) will print the value of 'variable_name' to the screen\n",
    "\n"
   ]
  },
  {
   "cell_type": "markdown",
   "metadata": {},
   "source": [
    "___"
   ]
  },
  {
   "cell_type": "markdown",
   "metadata": {},
   "source": [
    "## Discovering new particles"
   ]
  },
  {
   "cell_type": "markdown",
   "metadata": {},
   "source": [
    "Analysing the total number of events (i.e. the total cross section) is useful, but the detectors can allow us to calculate more complex quantities!\n",
    "\n",
    "At detectors we can observe quantities relating to the **kinematics** of observed particles. We can calculate the **masses** and different components of the **momenta** of observed particles or particle systems.\n",
    "\n",
    "We can produce **differential distributions**, which display the dependence of the cross section on these variables:\n",
    "\n",
    "$$\\frac{\\mathrm{d}\\sigma}{\\mathrm{d} \\theta_{X}}, \\quad \\frac{\\mathrm{d}\\sigma}{\\mathrm{d} p_{T}}, \\quad \\dots$$\n",
    "\n",
    "Below we show an example from the study which discovered the Higgs boson at the LHC - the distribution of the cross section in terms of the **invariant mass** of the pair of photons $\\gamma$ poduced in a Higgs decay $H\\rightarrow \\gamma \\gamma$ [(ATLAS Collaboration, 2012)](https://www.sciencedirect.com/science/article/pii/S037026931200857X?via%3Dihub):"
   ]
  },
  {
   "cell_type": "markdown",
   "metadata": {},
   "source": [
    "<img src=\"new-physics.png\" alt=\"Distribution that helped identify Higgs discovery\" width=\"400\"/>"
   ]
  },
  {
   "cell_type": "markdown",
   "metadata": {},
   "source": [
    "The bump in the data relative to the background was a clear sign of a new particle at mass $m_H=m_{\\gamma \\gamma}\\approx 125$ GeV$/c^2$\n",
    "\n",
    "In particle physics, we often use the natural system of units, where $c=h=1$, and write quantities in\n",
    "terms of eV (electron-volts) since the physics occurs at such small scales that normal SI units become unwieldy to work with!\n",
    "\n",
    "Since particles at collider experiments travel at very high speeds nearing the speed of light, we require results from the **Special Theory of Relativity**, and can write:\n",
    "\n",
    "$$E=mc^2 \\rightarrow m = E/c^2$$\n",
    "\n",
    "___\n",
    "#### Exercise 1b: Unit conversions\n",
    "Write a function that converts masses in eV/c^2 to kg and another that converts Barns to GeV (hint, convert from Barn's to m^3 first)."
   ]
  },
  {
   "cell_type": "code",
   "execution_count": 3,
   "metadata": {},
   "outputs": [],
   "source": [
    "# Define a function to convert a mass in\n",
    "# eV/c^2 to kg\n",
    "\n",
    "# Useful constants\n",
    "PLANCK_CONSTANT = 6.626E-34 # Js\n",
    "ELECTRON_VOLT = 1.602E-19 # J/eV\n",
    "SPEED_OF_LIGHT = 3E+8 # m/s\n",
    "\n",
    "def convert_ev_to_kg(mass_ev):\n",
    "\n",
    "    # Your code here\n",
    "\n",
    "    return # Replace this comment by the value you want to return\n"
    "def convert_b_to_GeV(CrossSection_b):\n",
    "\n",
    "    # Your code here\n",
    "\n",
    "    return # Replace this comment by the value you want to return\n"
   ]
  },
  {
   "cell_type": "markdown",
   "metadata": {},
   "source": [
    "What is the mass of the Higgs boson in kg, given $m_H = 125$ GeV/$c^2$?"
   ]
  },
  {
   "cell_type": "code",
   "execution_count": 4,
   "metadata": {},
   "outputs": [],
   "source": [
    "# Use the conversion function you defined earlier\n",
    "# to get the Higgs mass in kg\n",
    "\n",
    "# Be careful again with your units!\n"
   ]
  },
  {
   "cell_type": "markdown",
   "metadata": {},
   "source": [
    "___"
   ]
  },
  {
   "cell_type": "markdown",
   "metadata": {},
   "source": [
    "### Statistical significance and uncertainties (incl. combination of uncertainties)"
   ]
  },
  {
   "cell_type": "markdown",
   "metadata": {},
   "source": [
    "Why can measuring a bump in the data signify new physics?\n",
    "\n",
    "This is because we compare to **theoretical predictions** - a deviation in the data from the theoretical prediction for what we know indicates new physics!\n",
    "\n",
    "Q: How can we distinguish noise in the data from new physics?\n",
    "\n",
    "A: **PRECISION**!\n",
    "\n",
    "The data exhibits a statistical uncertainty, which can be characterised by a **variance**:\n",
    "\n",
    "$$\\sigma^2[X] = \\frac{1}{N}\\sum_i (x_i - \\mu)^2$$\n",
    "\n",
    "with $\\mu$ the **mean** of the dataset $X=\\{x_1, \\dots, x_i, \\dots, x_N\\}$.\n",
    "\n",
    "You may have seen the standard deviation $\\sigma[X]$ before, which is the square root of the variance.\n",
    "\n",
    "The **uncertainty** of the theoretical predictions (see next section) must be taken into account as well.\n",
    "\n",
    "Uncertainties have to be combined **in quadrature** (Hughes, Hase, 2010) i.e. if there are two sources of error on a result $\\alpha_1$, and $\\alpha_2$, the combined uncertainty is **not** in general $\\alpha_1 + \\alpha_2$.\n",
    "\n",
    "Instead, the total uncertainty would be:\n",
    "\n",
    "$$\\text{Total uncertainty} = \\sqrt{\\alpha_1^2 + \\alpha_2^2}$$\n",
    "\n",
    "The typical threshold that is taken to indicate the presence of new physics beyond statistical doubt is five standard deviations - [five sigma](https://home.cern/resources/faqs/five-sigma).\n",
    "\n",
    "This means that the difference between the observed value and the theoretical prediction (or an experimental background fit) must differ by more than five standard deviations to suggest new physics with confidence.\n",
    "\n",
    "**Trivia**: At five sigma, there is only a 0.00003% chance that the observed difference/bump is a statistical fluctuation!"
   ]
  },
  {
   "cell_type": "markdown",
   "metadata": {},
   "source": [
    "## Theoretical predictions"
   ]
  },
  {
   "cell_type": "markdown",
   "metadata": {},
   "source": [
    "With a theoretical basis for particle physics, predictions can be produced to higher and higher precision, permitting searches for new physics in experimental data. But how are these predictions produced?"
   ]
  },
  {
   "cell_type": "markdown",
   "metadata": {},
   "source": [
    "### Standard Model\n",
    "\n",
    "The Standard Model is a well-tested theory accounting for the physics of three fundamental forces (i.e. the three **sectors**):\n",
    "\n",
    "$$\\mathrm{SM} = \\text{Strong Force} \\times \\text{Weak Force} \\times \\text{Electromagnetism}$$\n",
    "\n",
    "The figure below shows the particle content of the Standard Model, with masses, spins and electric charges (in units of the electron charge $e$):\n",
    "\n",
    "<img src=\"sm-particles.png\" alt=\"Particle content of SM\" width=\"600\"/>\n",
    "\n",
    "- The quarks lie in the **strong** sector, with the gluon ($g$) being the boson that mediates the strong interaction.\n",
    "- The leptons and neutrinos lie in the **weak** sector, with the $W,Z$ bosons acting as the weak force mediators. \n",
    "- All fermions (excluding neutrinos) are in the **electromagnetic** sector, with the photon (i.e. light) being the force mediator.\n",
    "\n",
    "The **Higgs boson** is responsible for the masses of the quarks, leptons and the $W,Z$ bosons.\n",
    "\n",
    "The particles present in the SM are coupled and interact in many complex ways; we can not isolate/choose a sector in which electron-positron interactions occur.\n",
    "\n",
    "Thus we have to **combine** contributions to a process from all different **channels** and **mechanisms**."
   ]
  },
  {
   "cell_type": "markdown",
   "metadata": {},
   "source": [
    "### Feynman diagrams\n",
    "\n",
    "You may have seen Feynman diagrams before in your A-level physics classes, where they served as a nice way to envisage processes in particle physics. As well as being good for forming a mental picture, they are also a very powerful tool for calculating cross-sections. We will talk about this in more detail next week!\n",
    "\n",
    "For now, a little teaser of the processes we will be making predictions for:\n",
    "\n",
    "<img src=\"FeynmanDiagramsForNuffield.png\" alt=\"Feynman diagrams for Bhabha scattering\" width=\"400\"/>\n",
    "\n",
    "These are all examples of a process known as Bhabha scattering, an electron and a positron annihilate and an electron and positron are created. In the top left and bottom right these processes are mediated by vector bosons (which behave like photons) and the others are mediated by scalar bosons (which behave like the Higss boson).\n",
    "\n",
    "Note, we only ever see the final states of the interaction in our detector - we have no way of knowing for certain which process was responsible for each scattering event.\n",
    "\n",
    "Predictions from all channels have to be combined to obtain the correct total cross section!\n"
   ]
  }
 ],
 "metadata": {
  "kernelspec": {
   "display_name": "nuffield-2025",
   "language": "python",
   "name": "python3"
  },
  "language_info": {
   "codemirror_mode": {
    "name": "ipython",
    "version": 3
   },
   "file_extension": ".py",
   "mimetype": "text/x-python",
   "name": "python",
   "nbconvert_exporter": "python",
   "pygments_lexer": "ipython3",
   "version": "3.13.2"
  }
 },
 "nbformat": 4,
 "nbformat_minor": 4
}

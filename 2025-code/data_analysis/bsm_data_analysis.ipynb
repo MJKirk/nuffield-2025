{
 "cells": [
  {
   "cell_type": "markdown",
   "id": "344a67d4",
   "metadata": {},
   "source": [
    "# Search for New Physics at the FCC-ee Collider - Data Analysis"
   ]
  },
  {
   "cell_type": "markdown",
   "id": "9872c207",
   "metadata": {},
   "source": [
    "The steps needed to make your comparison of different theoretical predictions to simulated data for Bhabha scattering are described in this notebook.\n",
    "\n",
    "Like the previous notebook, we are studying $e^+e^- \\rightarrow e^+ e^-$, but now at large scattering angles - we will see why soon!\n",
    "\n",
    "In this notebook you will determine if there is a sign of a new particle in the data."
   ]
  },
  {
   "cell_type": "markdown",
   "id": "3847db9a",
   "metadata": {},
   "source": [
    "## Why large angle scattering?"
   ]
  },
  {
   "cell_type": "markdown",
   "id": "f6dcd499",
   "metadata": {},
   "source": [
    "You might wonder if the comparison we made in the last notebook, a pure SM prediction against data, was fair. Should we also have checked for BSM there?\n",
    "\n",
    "We will test this idea now, by comparing the theory predictions for three models: the SM, the SM plus a heavy $Z'$, and the SM plus a new heavy scalar."
   ]
  },
  {
   "cell_type": "markdown",
   "id": "76259d14",
   "metadata": {},
   "source": [
    "___\n",
    "#### Exercise 5a: Generate predictions over the whole range of scattering angles"
   ]
  },
  {
   "cell_type": "markdown",
   "id": "2c6ea139",
   "metadata": {},
   "source": [
    "Using the functions for the differential scattering angle we provided, generate 3 arrays with the predictions for values of $\\theta$ between 0 and $\\pi$."
   ]
  },
  {
   "cell_type": "markdown",
   "id": "ba9ada3a",
   "metadata": {},
   "source": [
    "___\n",
    "#### Exercise 5b: Plot ratios of different theory predictions over the whole range of scattering angles"
   ]
  },
  {
   "cell_type": "code",
   "execution_count": null,
   "id": "64ea29e5",
   "metadata": {},
   "outputs": [],
   "source": [
    "import matplotlib.pyplot as plt\n",
    "\n",
    "# Tell matplotlib to use LaTeX rendering, and a large font size\n",
    "plt.rc('text', usetex=True)\n",
    "plt.rc('font', family='serif', size=18)\n",
    "\n",
    "# Load the data from the text files\n",
    "\n",
    "# Plot the ratio of Z' prediction to SM, and new scalar prediction to SM\n",
    "\n",
    "# Add x and y axis labels\n",
    "\n",
    "# You'll probably want to use log scaling on the y-axis (get rid of this line to see why!)\n",
    "plt.yscale(\"log\")\n",
    "\n",
    "# Now show the plot you have made\n",
    "plt.show()"
   ]
  },
  {
   "cell_type": "markdown",
   "id": "2f566789",
   "metadata": {},
   "source": [
    "From your plot: why is it okay to use the SM predictions of small angle scattering to determine the luminosity?\n",
    "\n",
    "And where should we look for new physics?"
   ]
  },
  {
   "cell_type": "markdown",
   "id": "c4905021",
   "metadata": {},
   "source": [
    "___\n",
    "## Large angle scattering data"
   ]
  },
  {
   "cell_type": "markdown",
   "id": "1464e131",
   "metadata": {},
   "source": [
    "As have discovered from your plot above, for the two new physics models we are interested in, the change the SM prediction the most at large scattering angles: close to $\\pi/2$ for the $Z'$ and close to $3\\pi/4$ for the new heavy scalar.\n",
    "\n",
    "As a phenomenologist, you have discussed this with experimetnal colleagues and they have provided data for scattering angles between $\\pi/4$ and $3 \\pi /4$ for you to analyse.\n",
    "You can find this in the file `large-angle-data.dat`, in the same format as the small angle data we used in the last notebook."
   ]
  },
  {
   "cell_type": "markdown",
   "id": "f747afc8",
   "metadata": {},
   "source": [
    "#### Exercise 5c"
   ]
  },
  {
   "cell_type": "markdown",
   "id": "731a24c1",
   "metadata": {},
   "source": [
    "First, let's compare the data to the SM to see if it alone can explain what we are seeing.\n",
    "\n",
    "**Hint**: A useful trick to when comparing differential theory predictions and experimental data is to take the ratio, and subtract 1 (often this is called plotting \"residuals\")\n",
    "\n",
    "Why? Because then if they agree, you should get zero, and if not, you can see if the data is higher or lower than expected."
   ]
  },
  {
   "cell_type": "code",
   "execution_count": 1,
   "id": "f329cff1",
   "metadata": {},
   "outputs": [],
   "source": [
    "# Make a plot to compare the large angle data to the SM predictions"
   ]
  },
  {
   "cell_type": "markdown",
   "id": "5b4e3c92",
   "metadata": {},
   "source": [
    "Does the data look consistent with the SM predictions?"
   ]
  },
  {
   "cell_type": "markdown",
   "id": "dc682b32",
   "metadata": {},
   "source": [
    "___\n",
    "## What BSM physics are we seeing?"
   ]
  },
  {
   "cell_type": "markdown",
   "id": "e06b39a1",
   "metadata": {},
   "source": [
    "The data does not look consistent with the SM predictions, so now let's test our two models.\n",
    "\n",
    "We will do this by comparing the shape of the residuals of the data vs the SM, to the shape we would expect from either of our two new physics models."
   ]
  },
  {
   "cell_type": "markdown",
   "id": "d8d158d5",
   "metadata": {},
   "source": [
    "#### Exercise 5d"
   ]
  },
  {
   "cell_type": "markdown",
   "id": "0e76eedb",
   "metadata": {},
   "source": [
    "___\n",
    "# New physics!"
   ]
  },
  {
   "cell_type": "markdown",
   "id": "0005b4c4",
   "metadata": {},
   "source": [
    "The data is clear: much better agreement with the SM plus ____ compared to the SM plus ___ or the SM alone!"
   ]
  }
 ],
 "metadata": {
  "kernelspec": {
   "display_name": "nuffield-2025",
   "language": "python",
   "name": "python3"
  },
  "language_info": {
   "codemirror_mode": {
    "name": "ipython",
    "version": 3
   },
   "file_extension": ".py",
   "mimetype": "text/x-python",
   "name": "python",
   "nbconvert_exporter": "python",
   "pygments_lexer": "ipython3",
   "version": "3.13.2"
  }
 },
 "nbformat": 4,
 "nbformat_minor": 5
}

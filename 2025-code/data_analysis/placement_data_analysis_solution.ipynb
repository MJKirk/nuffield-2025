{
 "cells": [
  {
   "cell_type": "markdown",
   "metadata": {},
   "source": [
    "# New Physics Searches at the Large Hadron Collider - Data Analysis"
   ]
  },
  {
   "cell_type": "markdown",
   "metadata": {},
   "source": [
    "The steps needed to make your comparison of Standard Model predictions to **simulated** data for Higgs boson production are described in this notebook.\n",
    "\n",
    "The data we examine are for an experimental analysis for the process $pp\\rightarrow Hjj$ where $j$ represents a jet of hadrons. We aim to produce a distribution examining the mass of the two combined jets:\n",
    "\n",
    "$$\\frac{\\mathrm{d}\\sigma}{\\mathrm{d}m_{jj}},$$\n",
    "\n",
    "which is measured in units of $\\mathrm{pb/GeV}$. This will plotted in bins of $m_{jj}$, measured in $\\mathrm{GeV}$.\n",
    "\n",
    "In this notebook you will plot the Standard Model background against the experimental data to examine whether we can confidently say the data indicates the presence of new physics.\n",
    "\n",
    "For further information on the background and project brief please refer to the project [webpage](https://ippp.dur.ac.uk/~mkirk/nuffield/)"
   ]
  },
  {
   "cell_type": "markdown",
   "metadata": {},
   "source": [
    "## Structuring data"
   ]
  },
  {
   "cell_type": "markdown",
   "metadata": {},
   "source": [
    "Information can be stored in many form on computing systems, **data** needs to be **structured** in sensible and comprehensible ways that simplify interaction and interpreting."
   ]
  },
  {
   "cell_type": "markdown",
   "metadata": {},
   "source": [
    "A useful data structure in python (which exists in other programming languages) is the **array**, part of the `numpy` library."
   ]
  },
  {
   "cell_type": "markdown",
   "metadata": {},
   "source": [
    "Arrays are **containers** of variables which can be accessed individually, looped over, or altered by functions. Examples of how to use them are shown below - experiment with different values and functionalities!"
   ]
  },
  {
   "cell_type": "code",
   "execution_count": 1,
   "metadata": {},
   "outputs": [
    {
     "name": "stdout",
     "output_type": "stream",
     "text": [
      "Printing arrays\n",
      "[1 2 3 4]\n",
      "[5 6 7 8]\n",
      "\n",
      "Simple array operations\n",
      "array_1 * array_2 =  [ 5 12 21 32]\n",
      "array_1 + array_2 =  [ 6  8 10 12]\n",
      "array_1 - array_2 =  [-4 -4 -4 -4]\n",
      "array_1 / array_2 =  [0.2        0.33333333 0.42857143 0.5       ]\n",
      "\n",
      "Indexing arrays\n",
      "array_1[0] =  1\n",
      "array_1[1] =  2\n",
      "array_1[2] =  3\n",
      "array_1[3] =  4\n"
     ]
    }
   ],
   "source": [
    "## Example 1: Simple array manipulations\n",
    "import numpy as np\n",
    "\n",
    "# Construct arrays of numbers\n",
    "array_1 = np.array([1,2,3,4])\n",
    "array_2 = np.array([5,6,7,8])\n",
    "\n",
    "print(\"Printing arrays\")\n",
    "print(array_1)\n",
    "print(array_2)\n",
    "\n",
    "# Operations for arrays\n",
    "print(\"\\nSimple array operations\")\n",
    "print(\"array_1 * array_2 = \", array_1 * array_2) # multiplies each element of array_1 by the corresponding element of array_2\n",
    "print(\"array_1 + array_2 = \", array_1 + array_2) # adds each element of array_1 to the corresponding element of array_2\n",
    "print(\"array_1 - array_2 = \", array_1 - array_2) # subtracts from each element of array_1 the corresponding element of array_2\n",
    "print(\"array_1 / array_2 = \", array_1 / array_2) # divides each element of array_1 by the corresponding element of array_2\n",
    "\n",
    "# Indexing for access to specific elements\n",
    "# The first element of the array is '0', the second is '1', ...\n",
    "print(\"\\nIndexing arrays\")\n",
    "print(\"array_1[0] = \", array_1[0])\n",
    "print(\"array_1[1] = \", array_1[1])\n",
    "print(\"array_1[2] = \", array_1[2])\n",
    "print(\"array_1[3] = \", array_1[3])"
   ]
  },
  {
   "cell_type": "markdown",
   "metadata": {},
   "source": [
    "Functions can be used to modify components of arrays in many ways:"
   ]
  },
  {
   "cell_type": "code",
   "execution_count": 2,
   "metadata": {},
   "outputs": [
    {
     "name": "stdout",
     "output_type": "stream",
     "text": [
      "test array =  [1 2 3 4]\n",
      "transformed array =  [ 0  2  6 12]\n"
     ]
    }
   ],
   "source": [
    "## Example 2: The following function\n",
    "# transforms an array by multiplying\n",
    "# each element by its index\n",
    "import numpy as np\n",
    "\n",
    "def transform_array(array):\n",
    "    \n",
    "    # enumerate gives access to index\n",
    "    # and elements of a container\n",
    "    for idx, num in enumerate(array):\n",
    "        # inline multiplication multiplies\n",
    "        # the element by the index\n",
    "        array[idx] *= idx\n",
    "    \n",
    "    return array\n",
    "\n",
    "test_array = np.array([1,2,3,4])\n",
    "print(\"test array = \", test_array)\n",
    "print(\"transformed array = \", transform_array(test_array))"
   ]
  },
  {
   "cell_type": "markdown",
   "metadata": {},
   "source": [
    "Arrays can also be **multi-dimensional**!"
   ]
  },
  {
   "cell_type": "code",
   "execution_count": 3,
   "metadata": {},
   "outputs": [
    {
     "name": "stdout",
     "output_type": "stream",
     "text": [
      "Multi-dimensional array operations\n",
      "multi_array_1 = \n",
      " [[1 2]\n",
      " [3 4]]\n",
      "\n",
      "multi_array_2 = \n",
      " [[5 6]\n",
      " [7 8]]\n",
      "\n",
      "multi_array_1 + multi_array_2 = \n",
      " [[ 6  8]\n",
      " [10 12]]\n",
      "\n",
      "---\n",
      "\n",
      "Indexing multi-dimensional arrays\n",
      "multi_array_1[0,0] = \n",
      " 1\n",
      "\n",
      "multi_array_1[0,1] = \n",
      " 2\n",
      "\n",
      "multi_array_1[1,0] = \n",
      " 3\n",
      "\n",
      "multi_array_1[1,1] = \n",
      " 4\n",
      "\n",
      "---\n",
      "\n",
      "Shape of multi_array_1 =  (2, 2)\n",
      "\n",
      "Shape of multi_array_2 =  (2, 2)\n"
     ]
    }
   ],
   "source": [
    "## Example 2: Multi-dimensional arrays\n",
    "import numpy as np\n",
    "\n",
    "multi_array_1 = np.array([[1,2],[3,4]]) # This forms a 2x2 matrix!\n",
    "multi_array_2 = np.array([[5,6],[7,8]])\n",
    "\n",
    "# Multi-dimensional array operations:\n",
    "print(\"Multi-dimensional array operations\")\n",
    "print(\"multi_array_1 = \\n\", multi_array_1)\n",
    "print(\"\\nmulti_array_2 = \\n\", multi_array_2)\n",
    "print(\"\\nmulti_array_1 + multi_array_2 = \\n\", multi_array_1 + multi_array_2)\n",
    "\n",
    "# Indexing is more complicated:\n",
    "print(\"\\n---\\n\\nIndexing multi-dimensional arrays\")\n",
    "print(\"multi_array_1[0,0] = \\n\", multi_array_1[0,0])\n",
    "print(\"\\nmulti_array_1[0,1] = \\n\", multi_array_1[0,1])\n",
    "print(\"\\nmulti_array_1[1,0] = \\n\", multi_array_1[1,0])\n",
    "print(\"\\nmulti_array_1[1,1] = \\n\", multi_array_1[1,1])\n",
    "\n",
    "# The 'shape' function tells you the dimensions of the array\n",
    "print(\"\\n---\\n\\nShape of multi_array_1 = \", np.shape(multi_array_1)) # 2x2 matrix\n",
    "print(\"\\nShape of multi_array_2 = \", np.shape(multi_array_2)) # 2x2 matrix\n"
   ]
  },
  {
   "cell_type": "markdown",
   "metadata": {},
   "source": [
    "___\n",
    "#### Exercise 2a: Array transformations\n",
    "\n",
    "You are tasked to work with data to produce a histogram. For each bin the data is provided in the following format:\n",
    "\n",
    "$$[\\mathrm{ \\tt x\\_low \\quad x\\_high \\quad value \\quad error\\_minus \\quad error\\_plus}],$$\n",
    "\n",
    "where $\\mathrm{\\tt x\\_low, x\\_high}$ are the edges of the bins in $x$, $\\mathrm{\\tt value}$ is the value of the histogram at that point, and $\\mathrm{\\tt error\\_minus, error\\_plus}$ are the error bars in $y$ (i.e. the total uncertainty on $y=\\mathrm{\\tt value}$ is $\\mathrm{\\tt error\\_minus + error\\_plus}$).\n",
    "\n",
    "Produce a function that can add two histogram bins such that the **values** are added **linearly**, and the **errors** are combined **in quadrature** as discussed in the **introduction** notebook.\n",
    "\n",
    "**NOTE**: To combine two different contributions to the same bin, the $\\mathrm{\\tt x\\_low}$ and $\\mathrm{\\tt x\\_high}$ entries **MUST** match."
   ]
  },
  {
   "cell_type": "code",
   "execution_count": 4,
   "metadata": {},
   "outputs": [
    {
     "name": "stdout",
     "output_type": "stream",
     "text": [
      "[ 5 10 20  3  3]\n",
      "[ 5 10 10  4  4]\n",
      "[ 5. 10. 30.  5.  5.]\n"
     ]
    }
   ],
   "source": [
    "# Define function to physically combine\n",
    "# two entries for the same histogram\n",
    "# bin in the stated format\n",
    "import numpy as np\n",
    "\n",
    "def combine_bin_contribs(bin_1, bin_2):\n",
    "\n",
    "    # Check if x_low and x_high match\n",
    "    if bin_1[0] != bin_2[0] or bin_1[1] != bin_2[1]:\n",
    "        raise ValueError(\"Bin start and end values must match\")\n",
    "\n",
    "    new_x_low  = bin_1[0]\n",
    "    new_x_high = bin_1[1]\n",
    "\n",
    "    new_value = bin_1[2] + bin_2[2]\n",
    "    \n",
    "    new_error_minus = np.sqrt(bin_1[3]**2 + bin_2[3]**2)\n",
    "    new_error_plus  = np.sqrt(bin_1[4]**2 + bin_2[4]**2)\n",
    "    \n",
    "    return np.array((new_x_low, new_x_high, new_value, new_error_minus, new_error_plus))\n",
    "\n",
    "contrib_1 = np.array([5, 10, 20, 3, 3])\n",
    "contrib_2 = np.array([5, 10, 10, 4, 4])\n",
    "print(contrib_1)\n",
    "print(contrib_2)\n",
    "print(combine_bin_contribs(contrib_1, contrib_2))"
   ]
  },
  {
   "cell_type": "markdown",
   "metadata": {},
   "source": [
    "___"
   ]
  },
  {
   "cell_type": "markdown",
   "metadata": {},
   "source": [
    "## Reading external files"
   ]
  },
  {
   "cell_type": "markdown",
   "metadata": {},
   "source": [
    "Data from experiments and from theoretical predictions can be imported in a variety of formats, often from external files"
   ]
  },
  {
   "cell_type": "markdown",
   "metadata": {},
   "source": [
    "We have included data in a format similar to the one from Exercise 2a, in the `.dat` files in the same folder as this notebook.\n",
    "\n",
    "We can read these in python in a number of different ways:"
   ]
  },
  {
   "cell_type": "code",
   "execution_count": 5,
   "metadata": {},
   "outputs": [
    {
     "name": "stdout",
     "output_type": "stream",
     "text": [
      "0.000000e+00\t5.000000e+01\t6.477501e-06\t8.500424e-08\t8.500424e-08\n",
      "5.000000e+01\t1.000000e+02\t2.198127e-05\t3.679400e-07\t3.679400e-07\n",
      "1.000000e+02\t1.500000e+02\t7.112714e-06\t1.320287e-07\t1.320287e-07\n",
      "1.500000e+02\t2.000000e+02\t7.348822e-06\t1.373821e-07\t1.373821e-07\n",
      "2.000000e+02\t2.500000e+02\t4.699381e-06\t1.578399e-07\t1.578399e-07\n",
      "2.500000e+02\t3.000000e+02\t6.141894e-06\t3.886073e-07\t3.886073e-07\n",
      "3.000000e+02\t3.500000e+02\t4.109160e-06\t4.575637e-07\t4.575637e-07\n",
      "3.500000e+02\t4.000000e+02\t3.209164e-06\t9.512975e-08\t9.512975e-08\n",
      "4.000000e+02\t4.500000e+02\t3.287922e-06\t9.084217e-08\t9.084217e-08\n",
      "4.500000e+02\t5.000000e+02\t2.588623e-06\t1.335026e-07\t1.335026e-07\n",
      "5.000000e+02\t5.500000e+02\t2.629022e-06\t1.139008e-07\t1.139008e-07\n",
      "5.500000e+02\t6.000000e+02\t2.524809e-06\t8.615713e-08\t8.615713e-08\n",
      "6.000000e+02\t6.500000e+02\t2.962798e-06\t1.618244e-07\t1.618244e-07\n",
      "6.500000e+02\t7.000000e+02\t1.694864e-06\t9.617141e-08\t9.617141e-08\n",
      "7.000000e+02\t7.500000e+02\t2.198500e-06\t1.947348e-07\t1.947348e-07\n",
      "7.500000e+02\t8.000000e+02\t1.848204e-06\t9.786827e-08\t9.786827e-08\n",
      "8.000000e+02\t8.500000e+02\t2.190662e-06\t8.329120e-08\t8.329120e-08\n",
      "8.500000e+02\t9.000000e+02\t3.398384e-06\t3.292098e-07\t3.292098e-07\n",
      "9.000000e+02\t9.500000e+02\t1.981245e-06\t6.649841e-08\t6.649841e-08\n",
      "9.500000e+02\t1.000000e+03\t1.064835e-06\t9.814275e-08\t9.814275e-08\n",
      "<class 'str'> \n",
      "\n",
      "\n",
      "[[0.000000e+00 5.000000e+01 6.477501e-06 8.500424e-08 8.500424e-08]\n",
      " [5.000000e+01 1.000000e+02 2.198127e-05 3.679400e-07 3.679400e-07]\n",
      " [1.000000e+02 1.500000e+02 7.112714e-06 1.320287e-07 1.320287e-07]\n",
      " [1.500000e+02 2.000000e+02 7.348822e-06 1.373821e-07 1.373821e-07]\n",
      " [2.000000e+02 2.500000e+02 4.699381e-06 1.578399e-07 1.578399e-07]\n",
      " [2.500000e+02 3.000000e+02 6.141894e-06 3.886073e-07 3.886073e-07]\n",
      " [3.000000e+02 3.500000e+02 4.109160e-06 4.575637e-07 4.575637e-07]\n",
      " [3.500000e+02 4.000000e+02 3.209164e-06 9.512975e-08 9.512975e-08]\n",
      " [4.000000e+02 4.500000e+02 3.287922e-06 9.084217e-08 9.084217e-08]\n",
      " [4.500000e+02 5.000000e+02 2.588623e-06 1.335026e-07 1.335026e-07]\n",
      " [5.000000e+02 5.500000e+02 2.629022e-06 1.139008e-07 1.139008e-07]\n",
      " [5.500000e+02 6.000000e+02 2.524809e-06 8.615713e-08 8.615713e-08]\n",
      " [6.000000e+02 6.500000e+02 2.962798e-06 1.618244e-07 1.618244e-07]\n",
      " [6.500000e+02 7.000000e+02 1.694864e-06 9.617141e-08 9.617141e-08]\n",
      " [7.000000e+02 7.500000e+02 2.198500e-06 1.947348e-07 1.947348e-07]\n",
      " [7.500000e+02 8.000000e+02 1.848204e-06 9.786827e-08 9.786827e-08]\n",
      " [8.000000e+02 8.500000e+02 2.190662e-06 8.329120e-08 8.329120e-08]\n",
      " [8.500000e+02 9.000000e+02 3.398384e-06 3.292098e-07 3.292098e-07]\n",
      " [9.000000e+02 9.500000e+02 1.981245e-06 6.649841e-08 6.649841e-08]\n",
      " [9.500000e+02 1.000000e+03 1.064835e-06 9.814275e-08 9.814275e-08]]\n",
      "<class 'numpy.ndarray'>\n",
      "(20, 5)\n"
     ]
    }
   ],
   "source": [
    "## Example 3: Reading files\n",
    "import numpy as np\n",
    "\n",
    "# Native python open() function\n",
    "# 'r' argument means 'read-only'\n",
    "f = open(\"lhc-data.dat\", \"r\")\n",
    "print(f.read())\n",
    "print(type(f.read()),\"\\n\\n\") # The native python 'open' function converts the file read to a string - not a useful format\n",
    "\n",
    "# Try with numpy - which has some smarter functions!\n",
    "example_histogram = np.genfromtxt(\"lhc-data.dat\", dtype=float)\n",
    "print(example_histogram)\n",
    "print(type(example_histogram)) # The method has converted the data to a numpy array!\n",
    "print(np.shape(example_histogram)) # The dimensions are right too - 20 bins, 5 columns for each bin!"
   ]
  },
  {
   "cell_type": "markdown",
   "metadata": {},
   "source": [
    "___\n",
    "#### Exercise 2b: Complex array transformations\n",
    "\n",
    "Using the solution to Exercise 2a (i.e. not writing a new function from scratch), write a function that will add two histograms together."
   ]
  },
  {
   "cell_type": "code",
   "execution_count": 6,
   "metadata": {},
   "outputs": [],
   "source": [
    "# Define function to physically combine\n",
    "# two histograms, using the function(s)\n",
    "# you have created earlier.\n",
    "import numpy as np\n",
    "\n",
    "def combine_histograms(hist_1, hist_2):\n",
    "    combined = np.zeros_like(hist_1)\n",
    "    for i in range(len(hist_1)):\n",
    "        combined[i] = combine_bin_contribs(hist_1[i], hist_2[i])\n",
    "    return combined"
   ]
  },
  {
   "cell_type": "markdown",
   "metadata": {},
   "source": [
    "___\n",
    "### Combining theoretical predictions\n",
    "\n",
    "We have provided theoretical predictions for Higgs production in the base folder - including predictions from *High Energy Jets* ([HEJ](https://hej.hepforge.org/)) for the **strong-initiated process**, and predictions for *Vector Boson Fusion* or *VBF* (and related) which is the **weak-initiated** process.\n",
    "\n",
    "The composite prediction for Higgs production for this analysis will be the combination of both processes - you will need to **combine the histograms** for each component to produce a reasonable estimate of the Standard Model background.\n",
    "\n",
    "For each theoretical prediction we have provided a data file, each in the same format as the LHC experimental data you looked at above, called `hej-prediction.dat` and `vbf-prediction.dat`."
   ]
  },
  {
   "cell_type": "markdown",
   "metadata": {},
   "source": [
    "___\n",
    "#### Exercise 2c: Reading files and combining predictions\n",
    "\n",
    "Using the solution to Exercise 2b, and the example for reading files, create a composite histogram by combining the HEJ and VBF predictions.\n",
    "This will give you the full Standard Model prediction and the total **theoretical** error."
   ]
  },
  {
   "cell_type": "code",
   "execution_count": 7,
   "metadata": {},
   "outputs": [],
   "source": [
    "hej_prediction = np.genfromtxt(\"hej-prediction.dat\", dtype=float)\n",
    "vbf_prediction = np.genfromtxt(\"vbf-prediction.dat\", dtype=float)\n",
    "\n",
    "sm_prediction = combine_histograms(hej_prediction, vbf_prediction)"
   ]
  },
  {
   "cell_type": "markdown",
   "metadata": {},
   "source": [
    "___"
   ]
  },
  {
   "cell_type": "markdown",
   "metadata": {},
   "source": [
    "## Plotting revisited"
   ]
  },
  {
   "cell_type": "markdown",
   "metadata": {},
   "source": [
    "Congratulations! You should have combined the theoretical predictions to produce a composite histogram (don't worry if not, the file `sm-prediction.dat`, is pre-made and available for you to use instead).\n",
    "\n",
    "Now you need to plot the results with the experimental data from `lhc-data.dat`.\n",
    "\n",
    "Remember the guidance from the introduction of what goes into a good plot!\n",
    "\n",
    "For the histogram, we require two lines:\n",
    "\n",
    "1. A scatter plot of the experimental data with **statistical uncertainty** plotted as **vertical error bars**.\n",
    "\n",
    "2. A composite Standard Model theoretical prediction with **theoretical uncertainties** (from $\\mathrm{\\tt error\\_minus, error\\_plus}$ ) plotted as **shaded bands**.\n",
    "\n",
    "Here is the example plot again for guidance:\n",
    "\n",
    "<img src=\"../introduction_notebook/example-distribution.png\" alt=\"Example distribution for Higgs production\" width=\"500\"/>\n",
    "\n"
   ]
  },
  {
   "cell_type": "markdown",
   "metadata": {},
   "source": [
    "___\n",
    "#### Exercise 2d: Producing the plot!\n",
    "\n",
    "Produce the required plot described above, pay attention to the special guidance from the introduction notebook.\n",
    "\n",
    "You can use the previous variables and functions you have created/used earlier.\n",
    "\n",
    "Some useful links for matplotlib:\n",
    "- [Error bars and scatters](https://matplotlib.org/stable/gallery/lines_bars_and_markers/errorbar_limits_simple.html#sphx-glr-gallery-lines-bars-and-markers-errorbar-limits-simple-py)\n",
    "- [Stair plots](https://matplotlib.org/stable/gallery/lines_bars_and_markers/stairs_demo.html)\n",
    "- [Shading regions between lines](https://matplotlib.org/stable/gallery/lines_bars_and_markers/fill_between_demo.html#sphx-glr-gallery-lines-bars-and-markers-fill-between-demo-py)"
   ]
  },
  {
   "cell_type": "code",
   "execution_count": 11,
   "metadata": {},
   "outputs": [
    {
     "data": {
      "image/png": "[encoded data removed]",
      "text/plain": [
       "<Figure size 640x480 with 1 Axes>"
      ]
     },
     "metadata": {},
     "output_type": "display_data"
    }
   ],
   "source": [
    "import matplotlib.pyplot as plt\n",
    "\n",
    "# Tell matplotlib to use LaTeX rendering, and a large font dize\n",
    "plt.rc('text', usetex=True)\n",
    "plt.rc('font', family='serif', size=18)\n",
    "\n",
    "# Load the data from the text files\n",
    "lhc_data = np.genfromtxt(\"lhc-data.dat\", dtype=float)\n",
    "sm = np.genfromtxt(\"sm-prediction.dat\", dtype=float)\n",
    "\n",
    "# Calculate the centre of each bin, and the bin widths\n",
    "bin_centres = np.sum(lhc_data[:,:2],axis=1)/2\n",
    "bin_widths  = lhc_data[:,1] - lhc_data[:,0]\n",
    "\n",
    "# Plot the experimental data with error bars at the centre of each bin\n",
    "plt.errorbar(\n",
    "    bin_centres, lhc_data[:,2],\n",
    "    xerr=bin_widths/2, yerr=(lhc_data[:,3], lhc_data[:,4]),\n",
    "    ls=\"\", color=\"black\", label=\"LHC data\"\n",
    ")\n",
    "\n",
    "# For the stair plot, we need to manually add the 1000 GeV final\n",
    "x_values_sm = np.append(sm[:,0], sm[-1,1])\n",
    "y_central = sm[:,2]\n",
    "y_upper = sm[:,2] + sm[:,4]\n",
    "y_upper = np.append(y_upper, y_upper[-1])\n",
    "y_lower = sm[:,2] - sm[:,3]\n",
    "y_lower = np.append(y_lower, y_lower[-1])\n",
    "                        \n",
    "plt.stairs(sm[:,2], np.append(sm[:,0], sm[-1,1]),\n",
    "         color=\"firebrick\", linestyle=\"--\", label=\"Standard Model\")\n",
    "plt.fill_between(x_values_sm, y_lower, y_upper, step=\"post\",\n",
    "                     color=\"firebrick\", alpha=0.25)\n",
    "\n",
    "# Alter the plot scaling and limits\n",
    "plt.yscale(\"log\")\n",
    "plt.xlim(0,1000)\n",
    "plt.ylim(0.9e-6, 4e-5)\n",
    "\n",
    "# Set x,y axis labels and add the legend\n",
    "plt.xlabel(r\"$m_{jj}\\quad \\mathrm{[GeV]}$\")\n",
    "plt.ylabel(r\"$\\mathrm{d}\\sigma / \\mathrm{d}m_{jj}\\quad \\mathrm{[pb/GeV]}$\")\n",
    "plt.legend()\n",
    "\n",
    "plt.show()"
   ]
  },
  {
   "cell_type": "markdown",
   "metadata": {},
   "source": [
    "___"
   ]
  },
  {
   "cell_type": "markdown",
   "metadata": {},
   "source": [
    "## Analysis"
   ]
  },
  {
   "cell_type": "markdown",
   "metadata": {},
   "source": [
    "The data appears to show a **resonant feature** at $m_{jj}\\sim 850-900 \\,\\mathrm{GeV}$ !\n",
    "\n",
    "However, is this a statistically significant indication? The errors on the data are large."
   ]
  },
  {
   "cell_type": "markdown",
   "metadata": {},
   "source": [
    "___\n",
    "#### Exercise 2e: Statistical analysis\n",
    "\n",
    "Using the composite Standard Model prediction (with upper and lower bounds), determine whether the experimental data displays more than **five-sigma** tension with the theoretical SM background.\n",
    "\n",
    "This means using the loaded histogram data for each, and comparing the **values** in the 850-900 $\\mathrm{GeV}$ bin to see whether statistical fluctuation is exceedingly unlikely as an explanation of the bump in the data!\n",
    "\n",
    "Note that in our data we have **asymmetrical** errors, i.e. different positive and negative errors. There are various ways to deal with this kind of situation, but for simplicity here we can just average them to get a single experimental and theoretical error in each bin."
   ]
  },
  {
   "cell_type": "code",
   "execution_count": 9,
   "metadata": {},
   "outputs": [
    {
     "data": {
      "text/plain": [
       "(0.0, 1000.0)"
      ]
     },
     "execution_count": 9,
     "metadata": {},
     "output_type": "execute_result"
    },
    {
     "data": {
      "image/png": "[encoded data removed]",
      "text/plain": [
       "<Figure size 640x480 with 1 Axes>"
      ]
     },
     "metadata": {},
     "output_type": "display_data"
    }
   ],
   "source": [
    "# Use everything you have worked with\n",
    "# above to perform the required statistical\n",
    "# analysis!\n",
    "\n",
    "difference = lhc_data[:,2] - sm[:,2]\n",
    "\n",
    "average_exp_err = (lhc_data[:,3] + lhc_data[:,4])/2\n",
    "average_th_err = (sm[:,3] + sm[:,4])/2\n",
    "average_total_err = np.sqrt(average_exp_err**2 + average_th_err**2)\n",
    "\n",
    "sigmas = difference / average_total_err\n",
    "\n",
    "plt.scatter(bin_centres, sigmas)\n",
    "\n",
    "plt.xlabel(r\"$m_{jj}$ [GeV]\")\n",
    "plt.ylabel(r\"Tension [$\\sigma$]\")\n",
    "plt.xlim(0,1000)"
   ]
  },
  {
   "cell_type": "markdown",
   "metadata": {},
   "source": [
    "## Congratulations!\n"
   ]
  }
 ],
 "metadata": {
  "kernelspec": {
   "display_name": "Python 3 (ipykernel)",
   "language": "python",
   "name": "python3"
  },
  "language_info": {
   "codemirror_mode": {
    "name": "ipython",
    "version": 3
   },
   "file_extension": ".py",
   "mimetype": "text/x-python",
   "name": "python",
   "nbconvert_exporter": "python",
   "pygments_lexer": "ipython3",
   "version": "3.12.0"
  }
 },
 "nbformat": 4,
 "nbformat_minor": 4
}

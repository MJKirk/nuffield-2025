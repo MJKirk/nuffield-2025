{
 "cells": [
  {
   "cell_type": "markdown",
   "id": "582a16ae-2f5d-44c0-8409-7d84e809f61e",
   "metadata": {},
   "source": [
    "# Experimenting with Monte-Carlo methods"
   ]
  },
  {
   "cell_type": "markdown",
   "id": "093a1da8-4e63-467d-9f45-4bf0cde4a297",
   "metadata": {},
   "source": [
    "Now building on what you did in the last notebook, we are going to experiment a bit with Monte-Carlo methods and convince ourselves they work."
   ]
  },
  {
   "cell_type": "markdown",
   "id": "dbeb166c-58f1-4de4-adb3-dea6aa854741",
   "metadata": {},
   "source": [
    "____\n",
    "## Average value of a dice roll\n",
    "\n",
    "#### Exercise 3a\n",
    "\n",
    "First work out (without coding it) what the average value of a dice roll is and what the average value of a dice roll **squared** is. Then write some code to check these results.\n",
    "Write two functions to evaluate these for `n` dice rolls"
   ]
  },
  {
   "cell_type": "code",
   "execution_count": null,
   "id": "b25589d8-42f6-4ce4-99dd-19c0fb3e0709",
   "metadata": {},
   "outputs": [],
   "source": [
    "import numpy as np\n",
    "from numpy import random\n",
    "\n",
    "# Hint: For both functions you will want to use the random.randint function, where random.randint(a,b) will give a \n",
    "# random integer greater than or equal to a, but less than b, to simulate a dice roll\n",
    "\n",
    "def average_dice(n):\n",
    "    # Write some code here\n",
    "\n",
    "def average_dice_squared(n):\n",
    "    # Write some code here too!"
   ]
  },
  {
   "cell_type": "markdown",
   "id": "ce397c25-45ec-4267-9b90-4234ce10d09e",
   "metadata": {},
   "source": [
    "Now plot the results your function give, as a function of `n`, i.e. how many dice throws you make.\n",
    "We've sketched out the sort of code you will need"
   ]
  },
  {
   "cell_type": "code",
   "execution_count": null,
   "id": "c2c78783-8fee-43b2-b835-937c9e879485",
   "metadata": {},
   "outputs": [],
   "source": [
    "import matplotlib.pyplot as plt\n",
    "\n",
    "max_n =  # Some large number here\n",
    "n_values = np.arange(1, max_n+1)\n",
    "\n",
    "# Set up an empty array to store the results in\n",
    "average_vals = np.zeros(max_n)\n",
    "\n",
    "# Now write a loop to fill the average_vals array\n",
    "\n",
    "plt.scatter(n_values, average_vals)"
   ]
  },
  {
   "cell_type": "markdown",
   "id": "1dca397b-2de7-46f1-a8d6-097403b9b87c",
   "metadata": {},
   "source": [
    "___\n",
    "## Numerical integrals\n",
    "\n",
    "\n",
    "#### Exercise 3b\n",
    "Now let's do something more complicated - let's try and estimate the integral\n",
    "$$\n",
    "\\int_0^{10} e^{\\sin (x)} dx\n",
    "$$\n",
    "which has no analytic solution!\n",
    "To start with, modify your `integrate_x_a_b` so it takes a second argument, which is a python function representing the integrand.\n",
    "We've given you a simple function to start with `my_simple_function`, such that `integrate_myfunction_a_b(n, my_simple_function, a, b)` should give (approximately) the same result as `integrate_x_a_b`."
   ]
  },
  {
   "cell_type": "code",
   "execution_count": null,
   "id": "f9d5c76e-a4c5-467f-8c35-51c88f5e4470",
   "metadata": {},
   "outputs": [],
   "source": [
    "def integrate_myfunction_a_b(n_points, my_function, a, b):\n",
    "    # What should go here now?\n",
    "\n",
    "def my_simple_function(x):\n",
    "    return x\n",
    "\n",
    "print(integrate_x_a_b(100, 0, 1))\n",
    "print(integrate_myfunction_a_b(100, my_simple_function, 0, 1))"
   ]
  },
  {
   "cell_type": "markdown",
   "id": "e92086d2-ff9f-421f-827a-ad47fd07a81a",
   "metadata": {},
   "source": [
    "#### Exercise 3c\n",
    "\n",
    "Now define a new function that represents the integrand of the integral above, and see what your Monte-Carlo tells you the result is for `n_points = 1`, `10` or `50`. What do you think the correct answer is? How might you decide? (Hint: plotting the result for different values of `n_points` as you did above might be useful )"
   ]
  },
  {
   "cell_type": "markdown",
   "id": "0d5baa9f",
   "metadata": {},
   "source": [
    "___\n",
    "\n",
    "## Cross-section integrals"
   ]
  },
  {
   "cell_type": "markdown",
   "id": "71f746c7",
   "metadata": {},
   "source": [
    "Now we have all the code, we can now calculate a real physics result.\n",
    "\n",
    "The code below gives the differential cross-section for Bhabha scattering, as a function of the scattering angle $\\theta$ and the collider centre-of-mass energy $\\sqrt{s}$.\n",
    "Experimentally, the number of events is measured over many bins, each covering a small but finite range of angles, so the theoretical prediction we need to make is the differential cross-section integrated over each range of angles."
   ]
  },
  {
   "cell_type": "code",
   "execution_count": null,
   "id": "c75edec5",
   "metadata": {},
   "outputs": [],
   "source": [
    "def dsigma_dtheta_SM(theta, sqrt_s):\n",
    "    # Return the differential cross-section (in units of GeV^-2) for SM Bhabha scattering as a function of theta and sqrt_s (given in units of GeV)\n",
    "    MZ2 = 91.1876**2  # Z boson mass squared in GeV^2\n",
    "    Alfa = 1/128  # Fine-structure constant\n",
    "    sw = 0.231**0.5  # sine of the weak mixing angle\n",
    "    cw = (1 - sw**2)**0.5  # cosine of the weak mixing angle\n",
    "\n",
    "    cos = np.cos(theta)\n",
    "    S = sqrt_s**2  # Mandelstam variable S, which is the square of the centre-of-mass energy\n",
    "\n",
    "    return (Alfa**2*\n",
    "        (512*(MZ2 - S)**2*sw**4*(cw**2*(4*MZ2 + S - cos*S)- (-1 + cos)*S*sw**2)**2\n",
    "          + 2*(-1 + cos)**2*(1 + cos)**2*S**2*(-4*MZ2 + S + cos*S)**2*(cw**4 - 2*cw**2*sw**2 - 3*sw**4)**2\n",
    "          + ((-1 + cos)*cw**4*S*(-4*MZ2 + S + cos*S) + 2*cw**2*(16*MZ2**2 - 8*(1 + cos)*MZ2*S + (-5 + 4*cos + cos**2)*S**2)*sw**2 + (-1 + cos)*S*(-12*MZ2 + (9 + cos)*S)*sw**4)\n",
    "            * ((-1 + cos)*(1 + cos)**2*cw**4*S*(-4*MZ2 + S + cos*S)\n",
    "                + 2*cw**2*(16*(1 + 3*cos**2)*MZ2**2- 8*(1 + 3*cos + cos**2 + 3*cos**3)*MZ2*S + (-5 + 2*cos - 12*cos**2 + 14*cos**3 + cos**4)*S**2)*sw**2\n",
    "                + (-1 + cos)*S*(-4*(3 + 14*cos + 3*cos**2)*MZ2 + (9 + 3*cos + 27*cos**2 + cos**3)*S)*sw**4)\n",
    "          + ((-1 + cos)*cw**4*S*(-4*MZ2 + S + cos*S) - 2*cw**2*(cos**2*(8*MZ2 - 5*S)*S + S*(8*MZ2 + S) + 4*cos*(-4*MZ2**2 + S**2))*sw**2 + (-1 + cos)*S*(-28*MZ2 + S + 9*cos*S)*sw**4)\n",
    "            * ((-1 + cos)*(1 + cos)**2*cw**4*S*(-4*MZ2 + S + cos*S) - 2*cw**2*(cos**4*(8*MZ2 - 5*S)*S + 4*cos**2*(8*MZ2 - 3*S)*S + S*(8*MZ2 + S) + 2*cos**3*(-8*MZ2**2 + S**2) + cos*(-48*MZ2**2 + 16*MZ2*S + 14*S**2))*sw**2\n",
    "               + (-1 + cos)*S*(-4*(7 + 6*cos + 7*cos**2)*MZ2 + (1 + 27*cos + 3*cos**2 + 9*cos**3)*S)*sw**4)\n",
    "        )) / (1024.*(-1 + cos)**2*cw**4*(MZ2 - S)**2*S*(2*MZ2 + S - cos*S)**2*sw**4)"
   ]
  },
  {
   "cell_type": "markdown",
   "id": "4b4f999d",
   "metadata": {},
   "source": [
    "#### Exercise 3d\n",
    "\n",
    "Use the function you wrote in Exercise 3b to calculate a theoretical prediction for the Bhabha scattering cross-section over the range $64~\\mathrm{millirad} \\le \\theta \\leq 85~\\mathrm{millirad}$."
   ]
  },
  {
   "cell_type": "markdown",
   "id": "b0c663e2",
   "metadata": {},
   "source": [
    "___\n",
    "## Bump hunting (and why it doesn't work for us)\n",
    "\n",
    "**(To be completed after we discuss BSM models, and if there is time)**"
   ]
  },
  {
   "cell_type": "markdown",
   "id": "44b8e5ad",
   "metadata": {},
   "source": [
    "You saw in the introduction notebook this plot:\n",
    "\n",
    "<img src=\"../introduction/new-physics.png\" alt=\"Distribution that helped identify Higgs discovery\" width=\"400\"/>\n",
    "\n",
    "as an example of the data that allowed us to discover the Higgs boson.\n",
    "\n",
    "Can we discover the $Z'$ or new heavy scalar in the same way?\n",
    "Below is given the differential cross-section, including the effects of the $Z'$.\n"
   ]
  },
  {
   "cell_type": "code",
   "execution_count": null,
   "id": "29ecdf71",
   "metadata": {},
   "outputs": [],
   "source": [
    "def dsigma_dtheta_SM_plus_Zprime(theta, sqrt_s):\n",
    "    # Return the differential cross-section (in units of GeV^-2) for SM Bhabha scattering as a function of theta and sqrt_s (given in units of GeV)\n",
    "    MZ2 = 91.1876**2  # Z boson mass squared in GeV^2\n",
    "    Alfa = 1/128  # Fine-structure constant\n",
    "    sw = 0.231**0.5  # sine of the weak mixing angle\n",
    "    cw = (1 - sw**2)**0.5  # cosine of the weak mixing angle\n",
    "\n",
    "    # Our particular model parameters\n",
    "    MZprime = 5000 # GeV\n",
    "    gZprimeL = 0\n",
    "    gZprimeR = 1\n",
    "\n",
    "    cos = np.cos(theta)\n",
    "    S = sqrt_s**2  # Mandelstam variable S, which is the square of the centre-of-mass energy\n",
    "\n",
    "    return (Alfa**2*\n",
    "        (512*(MZ2 - S)**2*sw**4*(cw**2*(4*MZ2 + S - cos*S)- (-1 + cos)*S*sw**2)**2\n",
    "          + 2*(-1 + cos)**2*(1 + cos)**2*S**2*(-4*MZ2 + S + cos*S)**2*(cw**4 - 2*cw**2*sw**2 - 3*sw**4)**2\n",
    "          + ((-1 + cos)*cw**4*S*(-4*MZ2 + S + cos*S) + 2*cw**2*(16*MZ2**2 - 8*(1 + cos)*MZ2*S + (-5 + 4*cos + cos**2)*S**2)*sw**2 + (-1 + cos)*S*(-12*MZ2 + (9 + cos)*S)*sw**4)\n",
    "            * ((-1 + cos)*(1 + cos)**2*cw**4*S*(-4*MZ2 + S + cos*S)\n",
    "                + 2*cw**2*(16*(1 + 3*cos**2)*MZ2**2- 8*(1 + 3*cos + cos**2 + 3*cos**3)*MZ2*S + (-5 + 2*cos - 12*cos**2 + 14*cos**3 + cos**4)*S**2)*sw**2\n",
    "                + (-1 + cos)*S*(-4*(3 + 14*cos + 3*cos**2)*MZ2 + (9 + 3*cos + 27*cos**2 + cos**3)*S)*sw**4)\n",
    "          + ((-1 + cos)*cw**4*S*(-4*MZ2 + S + cos*S) - 2*cw**2*(cos**2*(8*MZ2 - 5*S)*S + S*(8*MZ2 + S) + 4*cos*(-4*MZ2**2 + S**2))*sw**2 + (-1 + cos)*S*(-28*MZ2 + S + 9*cos*S)*sw**4)\n",
    "            * ((-1 + cos)*(1 + cos)**2*cw**4*S*(-4*MZ2 + S + cos*S) - 2*cw**2*(cos**4*(8*MZ2 - 5*S)*S + 4*cos**2*(8*MZ2 - 3*S)*S + S*(8*MZ2 + S) + 2*cos**3*(-8*MZ2**2 + S**2) + cos*(-48*MZ2**2 + 16*MZ2*S + 14*S**2))*sw**2\n",
    "               + (-1 + cos)*S*(-4*(7 + 6*cos + 7*cos**2)*MZ2 + (1 + 27*cos + 3*cos**2 + 9*cos**3)*S)*sw**4)\n",
    "        )) / (1024.*(-1 + cos)**2*cw**4*(MZ2 - S)**2*S*(2*MZ2 + S - cos*S)**2*sw**4)"
   ]
  },
  {
   "cell_type": "markdown",
   "id": "141b44ea",
   "metadata": {},
   "source": [
    "For a fixed scattering angle of $\\theta = \\pi/2$, plot the number of events we would expect to see as a function of the centre-of-mass energy of our collider, from 10 GeV up to 6 TeV (= 6000 GeV)"
   ]
  }
 ],
 "metadata": {
  "kernelspec": {
   "display_name": "Python 3 (ipykernel)",
   "language": "python",
   "name": "python3"
  },
  "language_info": {
   "codemirror_mode": {
    "name": "ipython",
    "version": 3
   },
   "file_extension": ".py",
   "mimetype": "text/x-python",
   "name": "python",
   "nbconvert_exporter": "python",
   "pygments_lexer": "ipython3",
   "version": "3.13.5"
  }
 },
 "nbformat": 4,
 "nbformat_minor": 5
}

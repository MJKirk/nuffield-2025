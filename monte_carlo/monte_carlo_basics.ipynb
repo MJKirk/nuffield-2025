{
 "cells": [
  {
   "cell_type": "markdown",
   "id": "b2eca717",
   "metadata": {},
   "source": [
    "# Intoduction to Monte Carlo integration"
   ]
  },
  {
   "cell_type": "markdown",
   "id": "44810f7e",
   "metadata": {},
   "source": [
    "In the last notebook, we learnt about cross-sections and how they are related to what we see at a particle collider.\n",
    "\n",
    "How are these cross-sections calculated? Well they often involve complicated integrals, and in this notebook we will learn about one of the main methods for calculating these integrals -- Monte Carlo integration."
   ]
  },
  {
   "cell_type": "markdown",
   "id": "880ffa27",
   "metadata": {},
   "source": [
    "## Monte Carlo integration"
   ]
  },
  {
   "cell_type": "markdown",
   "id": "cb88a9d5",
   "metadata": {},
   "source": [
    "Integrals of simple functions can be calculated **analytically**, e.g.:\n",
    "\n",
    "$$\\int_a^b x \\, \\mathrm{d}x = \\left [\\frac{x^2}{2}\\right ]_a^b = \\frac{b^2-a^2}{2},$$\n",
    "\n",
    "The integrals we evaluate are much more complex, and are often impossible to evaluate analytically $\\Rightarrow$ we have to evaluate **numerically**.\n",
    "\n",
    "One such method is the **Monte Carlo** method, which is suited to our complicated integrals.\n",
    "\n",
    "This method is simple - we sample points **randomly** in the region required and approximate the integral:\n",
    "\n",
    "$$\\int_\\mathrm{region} f(x) \\mathrm{d}x \\approx V \\times \\frac{1}{N} \\sum_{i=1}^N f(x_i),$$\n",
    "\n",
    "where $N$ points are sampled, and $V$ is the size of the integration region:\n",
    "\n",
    "$$V = \\int_\\mathrm{region} \\mathrm{d}x.$$"
   ]
  },
  {
   "cell_type": "markdown",
   "id": "d74576b1",
   "metadata": {},
   "source": [
    "___\n",
    "#### Exercise 2a: Monte Carlo integration \n",
    "Produce a Monte Carlo approximation for the integral of $f(x)=x$ in the region $0 \\leq x \\leq 1$, which takes the number of points $N$ as an argument."
   ]
  },
  {
   "cell_type": "code",
   "execution_count": null,
   "id": "272640b8",
   "metadata": {},
   "outputs": [],
   "source": [
    "# We will need some external libraries\n",
    "# The numpy - numerical python - library\n",
    "# contains many useful functions\n",
    "import numpy as np\n",
    "from numpy import random\n",
    "\n",
    "# Define a function to integrate x between\n",
    "# 0 and 1 with Monte Carlo for sampling 'n_points'\n",
    "\n",
    "def integrate_x_0_1(n_points):\n",
    "    \n",
    "    # Your code here\n",
    "\n",
    "    # Hints:\n",
    "    # The numpy function 'random.uniform(a,b)'\n",
    "    # will generate a uniformly sampled random\n",
    "    # number between a and b\n",
    "    \n",
    "    # Google 'numpy documentation' for help\n",
    "    # with numpy-specific problems!\n",
    "    \n",
    "    # You may need a 'for' loop or a 'while' loop\n",
    "    # these allow you to execute code for multiple\n",
    "    # values.\n",
    "    \n",
    "    return # Replace comment with return value"
   ]
  },
  {
   "cell_type": "markdown",
   "id": "06951af3",
   "metadata": {},
   "source": [
    "Evaluate your function for $N=10$, $N=100$, and $N=1000$, what do you notice?"
   ]
  },
  {
   "cell_type": "code",
   "execution_count": null,
   "id": "10d81db0",
   "metadata": {},
   "outputs": [],
   "source": [
    "# Use the function you defined earlier to\n",
    "# integrate the function for the specified N\n",
    "# values\n",
    "\n",
    "# What should the answer be?"
   ]
  },
  {
   "cell_type": "markdown",
   "id": "74f663b6",
   "metadata": {},
   "source": [
    "#### Exercise 2b: Extending the function\n",
    "\n",
    "Can you modify your solution to 2a, allowing the end-points as arguments (such that you can integrate for any region)?"
   ]
  },
  {
   "cell_type": "code",
   "execution_count": null,
   "id": "eaaa93e1",
   "metadata": {},
   "outputs": [],
   "source": [
    "# Define a function to integrate x between\n",
    "# a and b with Monte Carlo for sampling 'n_points'\n",
    "\n",
    "def integrate_x_a_b(n_points, a, b):\n",
    "    # Your code here\n",
    "    return # Replace comment with return value"
   ]
  },
  {
   "cell_type": "markdown",
   "id": "6b0725ab",
   "metadata": {},
   "source": [
    "___\n",
    "### Approximating $\\pi$ with Monte Carlo"
   ]
  },
  {
   "cell_type": "markdown",
   "id": "fc06f702",
   "metadata": {},
   "source": [
    "With the Monte Carlo (MC) method, a fun exercise is to approximate $\\pi$!\n",
    "\n",
    "If we construct a circle with radius $r$, and house it in a square of side-length $2r$, then the ratio of the area of the circle to the square is:\n",
    "\n",
    "$$\\frac{\\text{area of circle}}{\\text{area of square}} = \\frac{\\pi r^2}{4r^2} = \\frac{\\pi}{4}.$$\n",
    "\n",
    "**Trivia**: This result is independent of the radius!\n",
    "\n",
    "Then, if we sample $N$ points in the square at random, we can expect the following:\n",
    "\n",
    "$$\\frac{\\text{area of circle}}{\\text{area of square}} = \\frac{\\pi}{4} \\approx \\frac{\\text{number of points in the circle}}{\\text{total number of points sampled ($N$)}}.$$\n",
    "\n",
    "Below is an example plot ([link](https://www.geeksforgeeks.org/estimating-value-pi-using-monte-carlo/)) for such a procedure:\n",
    "\n",
    "<img src=\"MonteCarlo.png\" alt=\"Monte Carlo approximating pi\" width=\"300\"/>\n",
    "\n",
    "This means we can write:\n",
    "\n",
    "$$\\pi \\approx 4\\times \\frac{\\text{number of points in the circle}}{\\text{total number of points sampled ($N$)}}$$"
   ]
  },
  {
   "cell_type": "markdown",
   "id": "d5961a82",
   "metadata": {},
   "source": [
    "___\n",
    "#### Exercise 2c: Approximating $\\pi$\n",
    "\n",
    "Produce a Monte Carlo approximation for $\\pi$ as outlined above, taking the total number of points $N$ as argument"
   ]
  },
  {
   "cell_type": "code",
   "execution_count": null,
   "id": "6ebc67cc",
   "metadata": {},
   "outputs": [],
   "source": [
    "# We will need the numpy libraries again\n",
    "import numpy as np\n",
    "from numpy import random\n",
    "\n",
    "# Define a function to approximate pi\n",
    "# with Monte Carlo for sampling 'n_points'\n",
    "\n",
    "def approximate_pi(n_points):\n",
    "    \n",
    "    # Your code here\n",
    "\n",
    "    # Hints:\n",
    "    # You can use a 'for' or 'while' loop as\n",
    "    # for the previous exercise.\n",
    "    \n",
    "    # You may need an 'if' statement, this will\n",
    "    # evaluate code satisfying a true/false\n",
    "    # condition\n",
    "    \n",
    "    return # Replace comment with return value"
   ]
  },
  {
   "cell_type": "markdown",
   "id": "e60deb44",
   "metadata": {},
   "source": [
    "Evaluate your function for $N=10$, $N=100$, and $N=1000$, what do you notice?"
   ]
  },
  {
   "cell_type": "code",
   "execution_count": null,
   "id": "dff10df6",
   "metadata": {},
   "outputs": [],
   "source": [
    "# Use the function you defined earlier to\n",
    "# integrate the function for the specified N\n",
    "# values\n",
    "\n",
    "# What do you notice about the convergence?"
   ]
  },
  {
   "cell_type": "markdown",
   "id": "8d0c6653",
   "metadata": {},
   "source": [
    "___"
   ]
  },
  {
   "cell_type": "markdown",
   "id": "678006cd",
   "metadata": {},
   "source": [
    "## Plotting results"
   ]
  },
  {
   "cell_type": "markdown",
   "id": "8732e7d4",
   "metadata": {},
   "source": [
    "As important as being able to produce sophisticated calculations is presenting your findings in a **comprehensible** way: **plotting** theoretical predictions and data in a clear way helps greatly in understanding!\n",
    "\n",
    "Example below is a distribution showing two Monte Carlo theoretical predictions and experimental data from [(Andersen et al., 2022)](https://link.springer.com/article/10.1007/JHEP03(2023)001), for Higgs production as analysed at the LHC [(ATLAS Collaboration, 2014)](https://link.springer.com/article/10.1007/JHEP09(2014)112):\n",
    "\n",
    "<img src=\"example-distribution.png\" alt=\"Example distribution for Higgs production\" width=\"600\"/>\n",
    "\n",
    "While not a strict checklist, consider whether a good plot satisfies the following:\n",
    "- Clear axis labels, with **units** shown.\n",
    "- Sensible and accessible choices of colour scheme.\n",
    "- Clearly highlighted **uncertainties**: in the figure above, theoretical uncertainties (on the theoretical prediction) are shown as shaded bands, statistical uncertainties (on the data) are shown as error bars.\n",
    "- A robust legend that clearly describes the analysis.\n",
    "- The **bin edges** are clearly defined and visible.\n",
    "- Suitable $x$ and $y$ ranges to see the full behaviour of the distributions.\n",
    "- Is not cluttered with too many lines/features (if this is the case, consider if you can make one plot into two).\n",
    "\n",
    "Do you think the plot above satisfies all of these?"
   ]
  },
  {
   "cell_type": "markdown",
   "id": "0177b8c3",
   "metadata": {},
   "source": [
    "Python has several useful libraries for plotting, we will use `matplotlib`"
   ]
  },
  {
   "cell_type": "markdown",
   "id": "775bd352",
   "metadata": {},
   "source": [
    "___\n",
    "#### Exercise 2d: Monte Carlo plots\n",
    "\n",
    "Produce a plot similar to this one that that we showed above.\n",
    "\n",
    "<img src=\"MonteCarlo.png\" alt=\"Monte Carlo approximating pi\" width=\"300\"/>\n"
   ]
  },
  {
   "cell_type": "code",
   "execution_count": null,
   "id": "e40d78c3",
   "metadata": {},
   "outputs": [],
   "source": [
    "import numpy as np\n",
    "from numpy import random\n",
    "# We need the plotting libraries\n",
    "import matplotlib.pyplot as plt\n",
    "\n",
    "# Define a function to approximate pi\n",
    "# with Monte Carlo for sampling 'n_points'\n",
    "# and plotting the results\n",
    "\n",
    "def approximate_pi(n_points):\n",
    "    \n",
    "    # We have added some 'boilerplate' code\n",
    "    # to set up the plot here, add more code\n",
    "    # around your pi approximation code from\n",
    "    # earlier to make a plot\n",
    "    \n",
    "    # Hints:\n",
    "    # Look for the matplotlib documentation\n",
    "    # online to help\n",
    "    \n",
    "    # The best function to use will be the\n",
    "    # plt.scatter function - the docs can\n",
    "    # help with this\n",
    "\n",
    "    # Set aspect ratios to equal\n",
    "    plt.gca().set_aspect(\"equal\")\n",
    "    \n",
    "    # Set x,y labels\n",
    "    plt.xlabel(\"Your x axis label\")\n",
    "    plt.ylabel(\"Your y axis label\")\n",
    "    \n",
    "    # Set x,y ranges\n",
    "    plt.xlim([-1, 1])\n",
    "    plt.ylim([-1, 1])\n",
    "    \n",
    "    # Plot square\n",
    "    plt.plot([1,-1,-1,1,1],[1,1,-1,-1,1], color=\"white\")\n",
    "    \n",
    "    # Plot circle\n",
    "    circle = plt.Circle((0, 0), 1, edgecolor=\"black\", facecolor=\"white\")\n",
    "    plt.gca().add_patch(circle)\n",
    "\n",
    "    # Show plot\n",
    "    plt.show()    \n",
    "    \n",
    "    return # Replace comment with return value\n",
    "\n",
    "\n",
    "N_POINTS = 10\n",
    "print(approximate_pi(N_POINTS))"
   ]
  },
  {
   "cell_type": "markdown",
   "id": "5f534b4a",
   "metadata": {},
   "source": [
    "#### Bonus Exercise: Accuracy of the approximation\n",
    "\n",
    "Modify the above code to produce a chart showing how accurate the approximation to $\\pi$ is for different values of $N$, similar to the one from [here](https://www.kaggle.com/code/soachishti/monte-carlo-tutorial-calculating-pi):\n",
    "\n",
    "<img src=\"pi-approx.png\" alt=\"Accuracy of pi approximation example\" width=\"400\"/>\n"
   ]
  }
 ],
 "metadata": {
  "kernelspec": {
   "display_name": "nuffield-2025",
   "language": "python",
   "name": "python3"
  },
  "language_info": {
   "codemirror_mode": {
    "name": "ipython",
    "version": 3
   },
   "file_extension": ".py",
   "mimetype": "text/x-python",
   "name": "python",
   "nbconvert_exporter": "python",
   "pygments_lexer": "ipython3",
   "version": "3.13.2"
  }
 },
 "nbformat": 4,
 "nbformat_minor": 5
}

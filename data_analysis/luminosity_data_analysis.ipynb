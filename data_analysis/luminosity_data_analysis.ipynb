{
 "cells": [
  {
   "cell_type": "markdown",
   "metadata": {},
   "source": [
    "# Luminosity at the FCC-ee Collider - Data Analysis"
   ]
  },
  {
   "cell_type": "markdown",
   "metadata": {},
   "source": [
    "The steps needed to make your comparison of Standard Model predictions to **simulated** data for Bhabha scattering are described in this notebook.\n",
    "\n",
    "The data we will examine come from a simulation of an experimental analysis for the process $e^+e^- \\rightarrow e^+ e^-$. We aim to study the distribution as a function of scattering angle:\n",
    "$$\\frac{\\mathrm{d}\\sigma}{\\mathrm{d}\\theta},$$\n",
    "which is measured in units of $\\mathrm{pb}$. This will plotted in bins of $\\theta$, measured in radians.\n",
    "\n",
    "In this notebook you will use small angle Bhabha scattering to determine the integrated luminosity of the FCC-ee."
   ]
  },
  {
   "cell_type": "markdown",
   "metadata": {},
   "source": [
    "___\n",
    "## Structuring data"
   ]
  },
  {
   "cell_type": "markdown",
   "metadata": {},
   "source": [
    "Information can be stored in many form on computing systems, **data** needs to be **structured** in sensible and comprehensible ways that simplify interaction and interpreting."
   ]
  },
  {
   "cell_type": "markdown",
   "metadata": {},
   "source": [
    "A useful data structure in python (which exists in other programming languages) is the **array**, part of the `numpy` library."
   ]
  },
  {
   "cell_type": "markdown",
   "metadata": {},
   "source": [
    "Arrays are **containers** of variables which can be accessed individually, looped over, or altered by functions. Examples of how to use them are shown below - experiment with different values and functionalities!"
   ]
  },
  {
   "cell_type": "code",
   "execution_count": null,
   "metadata": {},
   "outputs": [],
   "source": [
    "## Example 1: Simple array manipulations\n",
    "import numpy as np\n",
    "\n",
    "# Construct arrays of numbers\n",
    "array_1 = np.array([1,2,3,4])\n",
    "array_2 = np.array([5,6,7,8])\n",
    "\n",
    "print(\"Printing arrays\")\n",
    "print(array_1)\n",
    "print(array_2)\n",
    "\n",
    "# Operations for arrays\n",
    "print(\"\\nSimple array operations\")\n",
    "print(\"array_1 * array_2 = \", array_1 * array_2) # multiplies each element of array_1 by the corresponding element of array_2\n",
    "print(\"array_1 + array_2 = \", array_1 + array_2) # adds each element of array_1 to the corresponding element of array_2\n",
    "print(\"array_1 - array_2 = \", array_1 - array_2) # subtracts from each element of array_1 the corresponding element of array_2\n",
    "print(\"array_1 / array_2 = \", array_1 / array_2) # divides each element of array_1 by the corresponding element of array_2\n",
    "\n",
    "# Indexing for access to specific elements\n",
    "# The first element of the array is '0', the second is '1', ...\n",
    "print(\"\\nIndexing arrays\")\n",
    "print(\"array_1[0] = \", array_1[0])\n",
    "print(\"array_1[1] = \", array_1[1])\n",
    "print(\"array_1[2] = \", array_1[2])\n",
    "print(\"array_1[3] = \", array_1[3])"
   ]
  },
  {
   "cell_type": "markdown",
   "metadata": {},
   "source": [
    "Functions can be used to modify components of arrays in many ways:"
   ]
  },
  {
   "cell_type": "code",
   "execution_count": null,
   "metadata": {},
   "outputs": [],
   "source": [
    "## Example 2: The following function\n",
    "# transforms an array by multiplying\n",
    "# each element by its index\n",
    "import numpy as np\n",
    "\n",
    "def transform_array(array):\n",
    "    # enumerate gives access to index\n",
    "    # and elements of a container\n",
    "    for idx, num in enumerate(array):\n",
    "        # inline multiplication multiplies\n",
    "        # the element by the index\n",
    "        array[idx] *= idx\n",
    "\n",
    "    return array\n",
    "\n",
    "test_array = np.array([1,2,3,4])\n",
    "print(\"test array = \", test_array)\n",
    "print(\"transformed array = \", transform_array(test_array))"
   ]
  },
  {
   "cell_type": "markdown",
   "metadata": {},
   "source": [
    "Arrays can also be **multi-dimensional**!"
   ]
  },
  {
   "cell_type": "code",
   "execution_count": null,
   "metadata": {},
   "outputs": [],
   "source": [
    "## Example 2: Multi-dimensional arrays\n",
    "import numpy as np\n",
    "\n",
    "multi_array_1 = np.array([[1,2],[3,4]]) # This forms a 2x2 matrix!\n",
    "multi_array_2 = np.array([[5,6],[7,8]])\n",
    "\n",
    "# Multi-dimensional array operations:\n",
    "print(\"Multi-dimensional array operations\")\n",
    "print(\"multi_array_1 = \\n\", multi_array_1)\n",
    "print(\"\\nmulti_array_2 = \\n\", multi_array_2)\n",
    "print(\"\\nmulti_array_1 + multi_array_2 = \\n\", multi_array_1 + multi_array_2)\n",
    "\n",
    "# Indexing is more complicated:\n",
    "print(\"\\n---\\n\\nIndexing multi-dimensional arrays\")\n",
    "print(\"multi_array_1[0,0] = \\n\", multi_array_1[0,0])\n",
    "print(\"\\nmulti_array_1[0,1] = \\n\", multi_array_1[0,1])\n",
    "print(\"\\nmulti_array_1[1,0] = \\n\", multi_array_1[1,0])\n",
    "print(\"\\nmulti_array_1[1,1] = \\n\", multi_array_1[1,1])\n",
    "\n",
    "# The 'shape' function tells you the dimensions of the array\n",
    "print(\"\\n---\\n\\nShape of multi_array_1 = \", np.shape(multi_array_1)) # 2x2 matrix\n",
    "print(\"\\nShape of multi_array_2 = \", np.shape(multi_array_2)) # 2x2 matrix\n"
   ]
  },
  {
   "cell_type": "markdown",
   "metadata": {},
   "source": [
    "___\n",
    "#### Exercise 4a: Array transformations\n",
    "\n",
    "You are tasked to compare data published by an experiment to theoretical predictions. The experimental data is provided as a list of data points in the following format:\n",
    "$$[\\mathrm{ \\tt x\\_low \\quad x\\_high \\quad value \\quad error}],$$\n",
    "where $\\mathrm{\\tt x\\_low, x\\_high}$ are the edges of the bins in $x$, $\\mathrm{\\tt value}$ is the value of the histogram at that point, and $\\mathrm{\\tt error}$ is the error of $y$.\n",
    "Meanwhile the theoretical predictions, similar to those you produced in Exercise 3d will be in the form:\n",
    "$$[\\mathrm{ \\tt x\\_centre \\quad value \\quad error}],$$\n",
    "\n",
    "Produce a function that can convert the data to the form $$[\\mathrm{ \\tt x\\_centre \\quad x\\_width \\quad experiment/theory \\quad error}].$$"
   ]
  },
  {
   "cell_type": "code",
   "execution_count": null,
   "metadata": {},
   "outputs": [],
   "source": [
    "# Define function to calculate the ratio of experimental data to theoretical predictions\n",
    "import numpy as np\n",
    "\n",
    "def convert_bin_contribs(experimental_data, theory_data):\n",
    "    # Write some code here\n",
    "    return # Return value here\n",
    "\n",
    "# TODO: Change data values\n",
    "experimental_example = np.array([0.05, 0.1, 5, 0.5])\n",
    "theory_example = np.array([0.075, 5.1, 0.0001])\n",
    "print(convert_bin_contribs(experimental_example, theory_example))"
   ]
  },
  {
   "cell_type": "markdown",
   "metadata": {},
   "source": [
    "___"
   ]
  },
  {
   "cell_type": "markdown",
   "metadata": {},
   "source": [
    "## Reading external files"
   ]
  },
  {
   "cell_type": "markdown",
   "metadata": {},
   "source": [
    "Data from experiments and from theoretical predictions can be imported in a variety of formats, often from external files.\n",
    "\n",
    "We have included data in a format similar to the one from Exercise 4a, in the `.dat` files in the same folder as this notebook.\n",
    "We can read these in python in a number of different ways:"
   ]
  },
  {
   "cell_type": "code",
   "execution_count": null,
   "metadata": {},
   "outputs": [],
   "source": [
    "import numpy as np\n",
    "\n",
    "# Native python open() function\n",
    "# 'r' argument means 'read-only'\n",
    "f = open(\"small-angle-data.dat\", \"r\")\n",
    "print(f.read())\n",
    "print(type(f.read()),\"\\n\\n\") # The native python 'open' function converts the file read to a string - not a useful format\n",
    "\n",
    "# Try with numpy - which has some smarter functions!\n",
    "example_histogram = np.genfromtxt(\"small-angle-data.dat\", dtype=float)\n",
    "print(example_histogram)\n",
    "print(type(example_histogram)) # The method has converted the data to a numpy array!\n",
    "print(np.shape(example_histogram)) # The dimensions are right too - 5 bins, 4 columns for each bin!"
   ]
  },
  {
   "cell_type": "markdown",
   "metadata": {},
   "source": [
    "___\n",
    "#### Exercise 4b: Complex array transformations\n",
    "\n",
    "Using the solution to Exercise 4a (i.e. not writing a new function from scratch), write a function convert the entire datafile to the format we want"
   ]
  },
  {
   "cell_type": "code",
   "execution_count": null,
   "metadata": {},
   "outputs": [],
   "source": [
    "# Define function to convert the whole datafile,\n",
    "# using the function(s) you have created earlier.\n",
    "import numpy as np\n",
    "\n",
    "def convert_datafile(datafile):\n",
    "    # Hints:\n",
    "    # Can you use some of the tools\n",
    "    # we introduced in the previous\n",
    "    # notebook to enable the use of\n",
    "    # the function from Exercise 4a?\n",
    "    return # Return converted data here"
   ]
  },
  {
   "cell_type": "markdown",
   "metadata": {},
   "source": [
    "___\n",
    "#### Exercise 4c: Reading files and comparing predictions with data\n",
    "\n",
    "Using the solution to Exercise 4b, and the example for reading files, create a new variable that holds the converted experimental data.\n",
    "Next, use the solution to Exercise 3c to calculate the theory prediction for the cross-section, as integrated over the experimental angular bins."
   ]
  },
  {
   "cell_type": "code",
   "execution_count": 1,
   "metadata": {},
   "outputs": [],
   "source": [
    "# Load the data from the two text files, and use your function from exercise 3b to combine them"
   ]
  },
  {
   "cell_type": "markdown",
   "metadata": {},
   "source": [
    "___"
   ]
  },
  {
   "cell_type": "markdown",
   "metadata": {},
   "source": [
    "## Plotting revisited"
   ]
  },
  {
   "cell_type": "markdown",
   "metadata": {},
   "source": [
    "We will now plot our estimate of the integrated luminosity from each different bin of the data from `small-angle-data.dat`.\n",
    "Remember from the first notebook that integrated luminosity is the ratio of the number of events to the cross-section.\n",
    "\n",
    "Also remember the guidance from the introduction of what goes into a good plot!"
   ]
  },
  {
   "cell_type": "markdown",
   "metadata": {},
   "source": [
    "#### Exercise 4d: Producing the plot\n",
    "\n",
    "Produce the required plot described above, pay attention to the special guidance from the introduction notebook.\n",
    "\n",
    "You can use the previous variables and functions you have created/used earlier.\n",
    "\n",
    "Some useful links for matplotlib:\n",
    "- [Documentation for errorbar function](https://matplotlib.org/stable/api/_as_gen/matplotlib.pyplot.errorbar.html)\n",
    "- [Example 1](https://matplotlib.org/stable/gallery/statistics/errorbar.html) and [Example 2](https://matplotlib.org/stable/gallery/statistics/errorbar_features.html) of using the errorbar function"
   ]
  },
  {
   "cell_type": "code",
   "execution_count": 7,
   "metadata": {},
   "outputs": [],
   "source": [
    "import matplotlib.pyplot as plt\n",
    "\n",
    "# Tell matplotlib to use LaTeX rendering, and a large font size\n",
    "plt.rc('text', usetex=True)\n",
    "plt.rc('font', family='serif', size=18)\n",
    "\n",
    "# Load the data from the text files\n",
    "\n",
    "# Plot the ratio of experimental data to theoretical prediction with errors using the plt.errorbar function\n",
    "\n",
    "# Add x and y axis labels\n",
    "\n",
    "# Now show the plot you have made\n",
    "plt.show()"
   ]
  },
  {
   "cell_type": "markdown",
   "metadata": {},
   "source": [
    "Does the value for the luminosity in each bin look consistent?\n",
    "If so, average the five values to produce a combined luminosity value."
   ]
  }
 ],
 "metadata": {
  "kernelspec": {
   "display_name": "nuffield-2025",
   "language": "python",
   "name": "python3"
  },
  "language_info": {
   "codemirror_mode": {
    "name": "ipython",
    "version": 3
   },
   "file_extension": ".py",
   "mimetype": "text/x-python",
   "name": "python",
   "nbconvert_exporter": "python",
   "pygments_lexer": "ipython3",
   "version": "3.13.2"
  }
 },
 "nbformat": 4,
 "nbformat_minor": 4
}

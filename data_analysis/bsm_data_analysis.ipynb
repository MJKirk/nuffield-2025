{
 "cells": [
  {
   "cell_type": "markdown",
   "id": "344a67d4",
   "metadata": {},
   "source": [
    "# Search for New Physics at the FCC-ee Collider - Data Analysis"
   ]
  },
  {
   "cell_type": "markdown",
   "id": "9872c207",
   "metadata": {},
   "source": [
    "The steps needed to make your comparison of different theoretical predictions to simulated data for Bhabha scattering are described in this notebook.\n",
    "Like the previous notebook, we are studying $e^+e^- \\rightarrow e^+ e^-$, but now at large scattering angles - we will see why soon!\n",
    "In this notebook you will determine if there is a sign of a new particle in the data."
   ]
  },
  {
   "cell_type": "code",
   "execution_count": 89,
   "id": "b0fe50a2",
   "metadata": {},
   "outputs": [],
   "source": [
    "luminosity = 3881660163092702.5 # Input the value you found at the end of the last notebook"
   ]
  },
  {
   "cell_type": "markdown",
   "id": "86dddb4c",
   "metadata": {},
   "source": [
    "Below we've just copied again the monte-carlo integration code you've used before"
   ]
  },
  {
   "cell_type": "code",
   "execution_count": null,
   "id": "8c340032",
   "metadata": {},
   "outputs": [],
   "source": [
    "import random\n",
    "import numpy as np\n",
    "\n",
    "def integrate_myfunction_a_b(n_points, my_function, a, b):\n",
    "    V = (b - a)\n",
    "    sum = 0\n",
    "    for i in range(n_points):\n",
    "        # Generate a random number between a and b\n",
    "        x = random.uniform(a, b)\n",
    "        # Calculate the value of the function at x\n",
    "        f_x = my_function(x)\n",
    "        # Add the value to the sum\n",
    "        sum += f_x\n",
    "    # Your code here\n",
    "    integral = (V * sum) / n_points\n",
    "    return integral\n",
    "\n",
    "def final_monte_carlo_function(my_function, a, b):\n",
    "    # Does Monte-Carlo integration of `my_function` over the interval [a, b] with 10,000 random samples,\n",
    "    # 10 times and returns the mean and standard deviation of the results.\n",
    "\n",
    "    values = [integrate_myfunction_a_b(10000, my_function, a, b) for _ in range(10)]\n",
    "    # Then calculate the mean and standard deviation of the results\n",
    "    mean = sum(values)/10 # Calculate the mean of the results\n",
    "    std_dev = (sum((x - mean)**2 for x in values) / 10)**0.5 # Calculate the standard deviation of the results\n",
    "    return (mean, std_dev)"
   ]
  },
  {
   "cell_type": "markdown",
   "id": "3847db9a",
   "metadata": {},
   "source": [
    "## Why large angle scattering?"
   ]
  },
  {
   "cell_type": "markdown",
   "id": "f6dcd499",
   "metadata": {},
   "source": [
    "You might wonder if the comparison we made in the last notebook, a pure SM prediction against data, was fair. Should we also have checked for BSM there?\n",
    "\n",
    "We will test this idea now, by comparing the theory predictions for three models: the SM, the SM plus a heavy $Z'$, and the SM plus a new heavy scalar."
   ]
  },
  {
   "cell_type": "markdown",
   "id": "ea282ed6",
   "metadata": {},
   "source": [
    "Below we just give the code again for the differential scattering angle, for case of the SM, the SM + a $Z'$, and the SM + a new scalar, in each case at a centre-of-mass energy of $\\sqrt{s} = 240$ GeV."
   ]
  },
  {
   "cell_type": "code",
   "execution_count": null,
   "id": "46b59e6b",
   "metadata": {},
   "outputs": [],
   "source": [
    "def dsigma_dtheta_SM_240(theta):\n",
    "    # Return the differential cross-section (in units of GeV^-2) for SM Bhabha scattering as a function of theta, at sqrt_s = 240 GeV\n",
    "    MZ2 = 91.1876**2  # Z boson mass squared in GeV^2\n",
    "    Alfa = 1/128  # Fine-structure constant\n",
    "    sw = 0.231**0.5  # sine of the weak mixing angle\n",
    "    cw = (1 - sw**2)**0.5  # cosine of the weak mixing angle\n",
    "\n",
    "    cos = np.cos(theta)\n",
    "    S = 240**2  # Mandelstam variable S, which is the square of the centre-of-mass energy\n",
    "\n",
    "    return (Alfa**2*\n",
    "        (512*(MZ2 - S)**2*sw**4*(cw**2*(4*MZ2 + S - cos*S)- (-1 + cos)*S*sw**2)**2\n",
    "          + 2*(-1 + cos)**2*(1 + cos)**2*S**2*(-4*MZ2 + S + cos*S)**2*(cw**4 - 2*cw**2*sw**2 - 3*sw**4)**2\n",
    "          + ((-1 + cos)*cw**4*S*(-4*MZ2 + S + cos*S) + 2*cw**2*(16*MZ2**2 - 8*(1 + cos)*MZ2*S + (-5 + 4*cos + cos**2)*S**2)*sw**2 + (-1 + cos)*S*(-12*MZ2 + (9 + cos)*S)*sw**4)\n",
    "            * ((-1 + cos)*(1 + cos)**2*cw**4*S*(-4*MZ2 + S + cos*S)\n",
    "                + 2*cw**2*(16*(1 + 3*cos**2)*MZ2**2- 8*(1 + 3*cos + cos**2 + 3*cos**3)*MZ2*S + (-5 + 2*cos - 12*cos**2 + 14*cos**3 + cos**4)*S**2)*sw**2\n",
    "                + (-1 + cos)*S*(-4*(3 + 14*cos + 3*cos**2)*MZ2 + (9 + 3*cos + 27*cos**2 + cos**3)*S)*sw**4)\n",
    "          + ((-1 + cos)*cw**4*S*(-4*MZ2 + S + cos*S) - 2*cw**2*(cos**2*(8*MZ2 - 5*S)*S + S*(8*MZ2 + S) + 4*cos*(-4*MZ2**2 + S**2))*sw**2 + (-1 + cos)*S*(-28*MZ2 + S + 9*cos*S)*sw**4)\n",
    "            * ((-1 + cos)*(1 + cos)**2*cw**4*S*(-4*MZ2 + S + cos*S) - 2*cw**2*(cos**4*(8*MZ2 - 5*S)*S + 4*cos**2*(8*MZ2 - 3*S)*S + S*(8*MZ2 + S) + 2*cos**3*(-8*MZ2**2 + S**2) + cos*(-48*MZ2**2 + 16*MZ2*S + 14*S**2))*sw**2\n",
    "               + (-1 + cos)*S*(-4*(7 + 6*cos + 7*cos**2)*MZ2 + (1 + 27*cos + 3*cos**2 + 9*cos**3)*S)*sw**4)\n",
    "        )) / (1024.*(-1 + cos)**2*cw**4*(MZ2 - S)**2*S*(2*MZ2 + S - cos*S)**2*sw**4)\n",
    "\n",
    "def dsigma_dtheta_SM_plus_Zprime_240(theta):\n",
    "    # Return the differential cross-section (in units of GeV^-2) for SM Bhabha scattering as a function of theta, at sqrt_s = 240 GeV\n",
    "    MZ2 = 91.1876**2  # Z boson mass squared in GeV^2\n",
    "    Alfa = 1/128  # Fine-structure constant\n",
    "    sw = 0.231**0.5  # sine of the weak mixing angle\n",
    "    cw = (1 - sw**2)**0.5  # cosine of the weak mixing angle\n",
    "    Pi = np.pi\n",
    "\n",
    "    # Our particular model parameters\n",
    "    MZprime = 5000 # GeV\n",
    "    gZprimeL = 0\n",
    "    gZprimeR = 1\n",
    "\n",
    "    cos = np.cos(theta)\n",
    "    S = 240**2  # Mandelstam variable S, which is the square of the centre-of-mass energy\n",
    "\n",
    "    return (((1 + cos)**2*S**2*(4*cw**2*(gZprimeL**2 - gZprimeR**2)*(MZ2 - S)*(2*MZ2 + S - cos*S)*\n",
    "                   (-4*MZprime**2 + S + cos*S)*sw**2 +\n",
    "                  Alfa*Pi*(MZprime**2 - S)*(2*MZprime**2 + S - cos*S)*(-4*MZ2 + S + cos*S)*\n",
    "                   (cw**4 - 2*cw**2*sw**2 - 3*sw**4))**2)/\n",
    "             (8.*cw**4*(MZ2 - S)**2*(MZprime**2 - S)**2*(2*MZ2 + S - cos*S)**2*(2*MZprime**2 + S - cos*S)**2*\n",
    "               sw**4) + 2*((8*gZprimeL*gZprimeR*S)/(2*MZprime**2 + S - cos*S) -\n",
    "                4*Alfa*Pi*(2/(-1 + cos) + (S*(cw**2 - sw**2))/(cw**2*(2*MZ2 + S - cos*S))))**2 +\n",
    "            S**2*(-((gZprimeL - gZprimeR)**2/(MZprime**2 - S)) - (4*Alfa*Pi)/(S - cos*S) -\n",
    "               (2*(gZprimeL**2 + gZprimeR**2))/(2*MZprime**2 + S - cos*S) -\n",
    "               (Alfa*Pi*(cw**2 + sw**2)**2)/(4.*cw**2*(MZ2 - S)*sw**2) -\n",
    "               (Alfa*Pi*(cw**4 - 2*cw**2*sw**2 + 5*sw**4))/(2.*cw**2*(2*MZ2 + S - cos*S)*sw**2))*\n",
    "             ((1 + cos**2)*(-((gZprimeL - gZprimeR)**2/(MZprime**2 - S)) - (4*Alfa*Pi)/(S - cos*S) -\n",
    "                  (2*(gZprimeL**2 + gZprimeR**2))/(2*MZprime**2 + S - cos*S) -\n",
    "                  (Alfa*Pi*(cw**2 + sw**2)**2)/(4.*cw**2*(MZ2 - S)*sw**2) -\n",
    "                  (Alfa*Pi*(cw**4 - 2*cw**2*sw**2 + 5*sw**4))/(2.*cw**2*(2*MZ2 + S - cos*S)*sw**2)) -\n",
    "               2*cos*((gZprimeL + gZprimeR)**2/(MZprime**2 - S) + (4*Alfa*cos*Pi)/(S - cos*S) +\n",
    "                  (2*(gZprimeL**2 + gZprimeR**2))/(2*MZprime**2 + S - cos*S) +\n",
    "                  (Alfa*Pi*(cw**2 - 3*sw**2)**2)/(4.*cw**2*(MZ2 - S)*sw**2) +\n",
    "                  (Alfa*Pi*(cw**4 - 2*cw**2*sw**2 + 5*sw**4))/(2.*cw**2*(2*MZ2 + S - cos*S)*sw**2))) +\n",
    "            S**2*((gZprimeL + gZprimeR)**2/(MZprime**2 - S) + (4*Alfa*cos*Pi)/(S - cos*S) +\n",
    "               (2*(gZprimeL**2 + gZprimeR**2))/(2*MZprime**2 + S - cos*S) +\n",
    "               (Alfa*Pi*(cw**2 - 3*sw**2)**2)/(4.*cw**2*(MZ2 - S)*sw**2) +\n",
    "               (Alfa*Pi*(cw**4 - 2*cw**2*sw**2 + 5*sw**4))/(2.*cw**2*(2*MZ2 + S - cos*S)*sw**2))*\n",
    "             ((1 + cos**2)*((gZprimeL + gZprimeR)**2/(MZprime**2 - S) + (4*Alfa*cos*Pi)/(S - cos*S) +\n",
    "                  (2*(gZprimeL**2 + gZprimeR**2))/(2*MZprime**2 + S - cos*S) +\n",
    "                  (Alfa*Pi*(cw**2 - 3*sw**2)**2)/(4.*cw**2*(MZ2 - S)*sw**2) +\n",
    "                  (Alfa*Pi*(cw**4 - 2*cw**2*sw**2 + 5*sw**4))/(2.*cw**2*(2*MZ2 + S - cos*S)*sw**2)) +\n",
    "               (cos*((4*(gZprimeL - gZprimeR)**2)/(MZprime**2 - S) + (16*Alfa*Pi)/(S - cos*S) +\n",
    "                    (8*(gZprimeL**2 + gZprimeR**2))/(2*MZprime**2 + S - cos*S) +\n",
    "                    (Alfa*Pi*(cw**2 + sw**2)**2)/(cw**2*(MZ2 - S)*sw**2) +\n",
    "                    (2*Alfa*Pi*(cw**4 - 2*cw**2*sw**2 + 5*sw**4))/(cw**2*(2*MZ2 + S - cos*S)*sw**2)))/2.))/ (64.*Pi**2*S)\n",
    "\n",
    "def dsigma_dtheta_SM_plus_S_240(theta):\n",
    "    # Return the differential cross-section (in units of GeV^-2) for SM Bhabha scattering as a function of theta, at sqrt_s = 240 GeV\n",
    "    MZ2 = 91.1876**2  # Z boson mass squared in GeV^2\n",
    "    Alfa = 1/128  # Fine-structure constant\n",
    "    Alfa2 = Alfa**2 # Fine-structure constant squared\n",
    "    sw = 0.231**0.5  # sine of the weak mixing angle\n",
    "    cw = (1 - sw**2)**0.5  # cosine of the weak mixing angle\n",
    "    Pi = np.pi\n",
    "\n",
    "    # Our particular model parameters\n",
    "    Mscalar = 3500 # GeV\n",
    "    gNP = 1\n",
    "\n",
    "    cos = np.cos(theta)\n",
    "    S = 240**2  # Mandelstam variable S, which is the square of the centre-of-mass energy\n",
    "\n",
    "    return ((4*(-1 + cos)**2*cos*cw**4*gNP**4*(Mscalar**2 - S)*(MZ2 - S)**2*S**2*\n",
    "         ((1 + cos)*Mscalar**2 - 2*(-1 + cos)*S)*(2*MZ2 + S - cos*S)**2*sw**4 +\n",
    "        Alfa2*(-1 + cos)**2*(1 + cos)**2*Pi**2*(Mscalar**2 - S)**2*S**2*(2*Mscalar**2 + S - cos*S)**2*\n",
    "         (-4*MZ2 + S + cos*S)**2*(cw**2 - 3*sw**2)*(cw**2 + sw**2)*(cw**4 - 2*cw**2*sw**2 - 3*sw**4) +\n",
    "        8*(MZ2 - S)**2*sw**4*(((-1 + cos)*cw**2*gNP**2*(Mscalar**2 - S)*S*(-2*MZ2 + (-1 + cos)*S))/2. +\n",
    "           (-1 + cos)*cw**2*gNP**2*S*(-2*Mscalar**2 + (-1 + cos)*S)*(-2*MZ2 + (-1 + cos)*S) +\n",
    "           8*Alfa*cw**2*Pi*(Mscalar**2 - S)*(-2*MZ2 + (-1 + cos)*S)*(2*Mscalar**2 + S - cos*S) +\n",
    "           4*Alfa*(-1 + cos)*Pi*(Mscalar**2 - S)*S*(-2*Mscalar**2 + (-1 + cos)*S)*(cw**2 - sw**2))*\n",
    "         (((-1 + cos)*cw**2*gNP**2*(Mscalar**2 - S)*S*(-2*MZ2 + (-1 + cos)*S))/2. -\n",
    "           ((-1 + cos)*cos*cw**2*gNP**2*(Mscalar**2 - S)*S*(-2*MZ2 + (-1 + cos)*S))/2. +\n",
    "           (-1 + cos)*cw**2*gNP**2*S*(-2*Mscalar**2 + (-1 + cos)*S)*(-2*MZ2 + (-1 + cos)*S) +\n",
    "           8*Alfa*cw**2*Pi*(Mscalar**2 - S)*(-2*MZ2 + (-1 + cos)*S)*(2*Mscalar**2 + S - cos*S) +\n",
    "           4*Alfa*(-1 + cos)*Pi*(Mscalar**2 - S)*S*(-2*Mscalar**2 + (-1 + cos)*S)*(cw**2 - sw**2)) +\n",
    "        2*(Mscalar**2 - S)**2*(MZ2 - S)**2*sw**4*\n",
    "         (-((-1 + cos)*cw**2*gNP**2*S*(-2*MZ2 + (-1 + cos)*S)) -\n",
    "           8*Alfa*Pi*(2*Mscalar**2 + S - cos*S)*(cw**2*(4*MZ2 + S - cos*S) - (-1 + cos)*S*sw**2))*\n",
    "         ((-1 + cos)**2*cw**2*gNP**2*S*(-2*MZ2 + (-1 + cos)*S) -\n",
    "           8*Alfa*Pi*(2*Mscalar**2 + S - cos*S)*(cw**2*(4*MZ2 + S - cos*S) - (-1 + cos)*S*sw**2)) +\n",
    "        8*(Mscalar**2 - S)**2*(((-1 + cos)*cw**2*gNP**2*(MZ2 - S)*S*(-2*MZ2 + (-1 + cos)*S)*sw**2)/2. +\n",
    "           4*Alfa*cw**2*Pi*(MZ2 - S)*(-2*Mscalar**2 + (-1 + cos)*S)*(2*MZ2 + S - cos*S)*sw**2 +\n",
    "           (Alfa*(-1 + cos)*Pi*S*(-2*Mscalar**2 + (-1 + cos)*S)*\n",
    "              (cw**4*(-4*MZ2 + S + cos*S) + 2*(-3 + cos)*cw**2*S*sw**2 + (-12*MZ2 + (9 + cos)*S)*sw**4))/\n",
    "            4.)*((1 + cos**2)*(((-1 + cos)*cw**2*gNP**2*(MZ2 - S)*S*(-2*MZ2 + (-1 + cos)*S)*sw**2)/2. +\n",
    "              4*Alfa*cw**2*Pi*(MZ2 - S)*(-2*Mscalar**2 + (-1 + cos)*S)*(2*MZ2 + S - cos*S)*sw**2 +\n",
    "              (Alfa*(-1 + cos)*Pi*S*(-2*Mscalar**2 + (-1 + cos)*S)*\n",
    "                 (cw**4*(-4*MZ2 + S + cos*S) + 2*(-3 + cos)*cw**2*S*sw**2 + (-12*MZ2 + (9 + cos)*S)*sw**4)\n",
    "                 )/4.) + (cos*(-16*Alfa*cos*cw**2*Pi*(MZ2 - S)*(-2*Mscalar**2 + (-1 + cos)*S)*\n",
    "                 (-2*MZ2 + (-1 + cos)*S)*sw**2 +\n",
    "                Alfa*(-1 + cos)*Pi*S*(-2*Mscalar**2 + (-1 + cos)*S)*(-2*MZ2 + (-1 + cos)*S)*\n",
    "                 (cw**2 - 3*sw**2)**2 - 2*(1 - cos)*(MZ2 - S)*S*\n",
    "                 (cw**2*gNP**2*(2*MZ2 + S - cos*S)*sw**2 +\n",
    "                   Alfa*Pi*(2*Mscalar**2 + S - cos*S)*(cw**4 - 2*cw**2*sw**2 + 5*sw**4))))/2.) +\n",
    "        8*(Mscalar**2 - S)**2*(4*Alfa*cos*cw**2*Pi*(MZ2 - S)*(-2*Mscalar**2 + (-1 + cos)*S)*\n",
    "            (-2*MZ2 + (-1 + cos)*S)*sw**2 -\n",
    "           (Alfa*(-1 + cos)*Pi*S*(-2*Mscalar**2 + (-1 + cos)*S)*(-2*MZ2 + (-1 + cos)*S)*\n",
    "              (cw**2 - 3*sw**2)**2)/4. + ((1 - cos)*(MZ2 - S)*S*\n",
    "              (cw**2*gNP**2*(2*MZ2 + S - cos*S)*sw**2 +\n",
    "                Alfa*Pi*(2*Mscalar**2 + S - cos*S)*(cw**4 - 2*cw**2*sw**2 + 5*sw**4)))/2.)*\n",
    "         (-2*cos*(((-1 + cos)*cw**2*gNP**2*(MZ2 - S)*S*(-2*MZ2 + (-1 + cos)*S)*sw**2)/2. +\n",
    "              4*Alfa*cw**2*Pi*(MZ2 - S)*(-2*Mscalar**2 + (-1 + cos)*S)*(2*MZ2 + S - cos*S)*sw**2 +\n",
    "              (Alfa*(-1 + cos)*Pi*S*(-2*Mscalar**2 + (-1 + cos)*S)*\n",
    "                 (cw**4*(-4*MZ2 + S + cos*S) + 2*(-3 + cos)*cw**2*S*sw**2 + (-12*MZ2 + (9 + cos)*S)*sw**4)\n",
    "                 )/4.) + (1 + cos**2)*(4*Alfa*cos*cw**2*Pi*(MZ2 - S)*(-2*Mscalar**2 + (-1 + cos)*S)*\n",
    "               (-2*MZ2 + (-1 + cos)*S)*sw**2 -\n",
    "              (Alfa*(-1 + cos)*Pi*S*(-2*Mscalar**2 + (-1 + cos)*S)*(-2*MZ2 + (-1 + cos)*S)*\n",
    "                 (cw**2 - 3*sw**2)**2)/4. +\n",
    "              ((1 - cos)*(MZ2 - S)*S*(cw**2*gNP**2*(2*MZ2 + S - cos*S)*sw**2 +\n",
    "                   Alfa*Pi*(2*Mscalar**2 + S - cos*S)*(cw**4 - 2*cw**2*sw**2 + 5*sw**4)))/2.)))/\n",
    "      (512.*(-1 + cos)**2*cw**4*Pi**2*(Mscalar**2 - S)**2*(MZ2 - S)**2*S*(2*Mscalar**2 + S - cos*S)**2*\n",
    "        (2*MZ2 + S - cos*S)**2*sw**4))"
   ]
  },
  {
   "cell_type": "markdown",
   "id": "76259d14",
   "metadata": {},
   "source": [
    "___\n",
    "#### Exercise 6a: Generate predictions over the whole range of scattering angles"
   ]
  },
  {
   "cell_type": "markdown",
   "id": "2c6ea139",
   "metadata": {},
   "source": [
    "Using the functions for the differential scattering angle we provided, generate 3 arrays with the predictions for the number of events, for values of $\\theta$ between 0 and $\\pi$.\n",
    "Remember that number of events is the cross-section times the luminosity, so you will have to use the number you calculated in the last notebook."
   ]
  },
  {
   "cell_type": "code",
   "execution_count": null,
   "id": "24405389",
   "metadata": {},
   "outputs": [],
   "source": [
    "theta_values = # Generate an array of theta values from 0 to pi with 100 points\n",
    "SM_predictions = # Generate the SM predictions for each theta value\n",
    "Zprime_predictions = # Generate the SM+Z' predictions for each theta value\n",
    "Scalar_predictions = # Generate the SM+S predictions for each theta value"
   ]
  },
  {
   "cell_type": "markdown",
   "id": "ba9ada3a",
   "metadata": {},
   "source": [
    "___\n",
    "#### Exercise 6b: Plot ratios of different theory predictions over the whole range of scattering angles\n"
   ]
  },
  {
   "cell_type": "code",
   "execution_count": null,
   "id": "64ea29e5",
   "metadata": {},
   "outputs": [],
   "source": [
    "import matplotlib.pyplot as plt\n",
    "\n",
    "# Tell matplotlib to use LaTeX rendering, and a large font size\n",
    "plt.rc('text', usetex=True)\n",
    "plt.rc('font', family='serif', size=18)\n",
    "\n",
    "# Plot the ratio of Z' prediction to SM, and new scalar prediction to SM\n",
    "\n",
    "# Add x and y axis labels\n",
    "\n",
    "# Now show the plot you have made\n",
    "plt.show()"
   ]
  },
  {
   "cell_type": "markdown",
   "id": "2f566789",
   "metadata": {},
   "source": [
    "From your plot: why is it okay to use the SM predictions of small angle scattering to determine the luminosity?\n",
    "\n",
    "And where should we look for new physics?"
   ]
  },
  {
   "cell_type": "markdown",
   "id": "c4905021",
   "metadata": {},
   "source": [
    "___\n",
    "## Large angle scattering data"
   ]
  },
  {
   "cell_type": "markdown",
   "id": "1464e131",
   "metadata": {},
   "source": [
    "As you have discovered from your plot above, for the two new physics models we are interested in, the change relative to the SM prediction is largest at large scattering angles: close to $\\pi/2$ for the $Z'$ and close to $3\\pi/4$ for the new heavy scalar.\n",
    "\n",
    "As a phenomenologist, you have discussed this with experimental colleagues and they have provided data for scattering angles between $\\pi/4$ and $3 \\pi /4$ for you to analyse.\n",
    "You can find this in the file `large-angle-data.dat`, in the same format as the small angle data we used in the last notebook."
   ]
  },
  {
   "cell_type": "code",
   "execution_count": null,
   "id": "a3bc03fd",
   "metadata": {},
   "outputs": [],
   "source": [
    "# Load the large angle data\n",
    "experimental_data = np.genfromtxt(\"large-angle-data.dat\")\n",
    "experimental_data"
   ]
  },
  {
   "cell_type": "markdown",
   "id": "f747afc8",
   "metadata": {},
   "source": [
    "#### Exercise 6c"
   ]
  },
  {
   "cell_type": "markdown",
   "id": "93dac80b",
   "metadata": {},
   "source": [
    "Make a 2 dimensional array, in the same format as the experimental data file we loaded, i.e.:\n",
    "$$[\\mathtt{x\\_low \\quad x\\_high \\quad predicted\\_number\\_of\\_events \\quad error}],$$\n",
    "but now with theoretical predictions, with errors, from the Monte-Carlo function to compare to the new large angle experimental data, just like you did in Exercise 5a.\n",
    "\n",
    "**NOTE** When you multiple a number with an uncertainty by a constant value, the uncertainty just scales up in the same way: $5 \\times (x \\pm y) = 5x \\pm 5y$"
   ]
  },
  {
   "cell_type": "code",
   "execution_count": null,
   "id": "2f647163",
   "metadata": {},
   "outputs": [],
   "source": [
    "large_angle_SM_predictions = # Write code similar to Exercise 5a but now for the angular bins from the large angle data file"
   ]
  },
  {
   "cell_type": "markdown",
   "id": "731a24c1",
   "metadata": {},
   "source": [
    "#### Exercise 6d\n",
    "Now, let's compare the data to the SM to see if it alone can explain what we are seeing.\n",
    "\n",
    "**Hint**: A useful trick to when comparing theory and experimental data is to take the ratio, and subtract 1 (often this is called plotting \"residuals\")\n",
    "Why? Because then if they agree, you should get zero, and if not, you can see if the data is higher or lower than expected.\n",
    "\n",
    "Remember how to combine uncertainties when we calculate the ratio of two numbers."
   ]
  },
  {
   "cell_type": "code",
   "execution_count": null,
   "id": "f329cff1",
   "metadata": {},
   "outputs": [],
   "source": [
    "# Make a plot to compare the large angle data to the SM predictions"
   ]
  },
  {
   "cell_type": "markdown",
   "id": "5b4e3c92",
   "metadata": {},
   "source": [
    "Does the data look consistent (within the error bars) with the SM predictions?"
   ]
  },
  {
   "cell_type": "markdown",
   "id": "dc682b32",
   "metadata": {},
   "source": [
    "___\n",
    "## What BSM physics are we seeing?"
   ]
  },
  {
   "cell_type": "markdown",
   "id": "e06b39a1",
   "metadata": {},
   "source": [
    "Since the data does not look consistent with the SM predictions, so now let's test our two models.\n",
    "First we have to make predictions for each of our BSM models, similar to what you did in Exercise 6c."
   ]
  },
  {
   "cell_type": "markdown",
   "id": "d8d158d5",
   "metadata": {},
   "source": [
    "#### Exercise 6e"
   ]
  },
  {
   "cell_type": "code",
   "execution_count": null,
   "id": "3a612694",
   "metadata": {},
   "outputs": [],
   "source": [
    "large_angle_Zprime_predictions = # Write code here - it will be similar to Exercise 6c\n",
    "large_angle_new_scalar_predictions = # Write code here - it will be similar to Exercise 6c"
   ]
  },
  {
   "cell_type": "markdown",
   "id": "deb4db11",
   "metadata": {},
   "source": [
    "#### Exercise 6f\n",
    "\n",
    "With our two different BSM predictions, we can calculate the residual of each them relative to the data."
   ]
  },
  {
   "cell_type": "code",
   "execution_count": null,
   "id": "e980608b",
   "metadata": {},
   "outputs": [],
   "source": [
    "Zprime_vs_data_residual = # (SM+Z' predictions / data) - 1\n",
    "BSM_scalar_vs_data_residual = # (SM+S predictions / data) - 1"
   ]
  },
  {
   "cell_type": "markdown",
   "id": "84444573",
   "metadata": {},
   "source": [
    "With our two different BSM residuals, we can plot each of them relative to the data.\n",
    "\n",
    "This allows us to compare the shape of the data to the shape we would expect from either of our two new physics models."
   ]
  },
  {
   "cell_type": "code",
   "execution_count": null,
   "id": "3db6bc8b",
   "metadata": {},
   "outputs": [],
   "source": [
    "# Make a plot of the two different residuals"
   ]
  },
  {
   "cell_type": "markdown",
   "id": "0e76eedb",
   "metadata": {},
   "source": [
    "___\n",
    "# New physics!"
   ]
  },
  {
   "cell_type": "markdown",
   "id": "0005b4c4",
   "metadata": {},
   "source": [
    "The data is clear: much better agreement with the SM plus ____ compared to the SM plus ___ or the SM alone!"
   ]
  }
 ],
 "metadata": {
  "kernelspec": {
   "display_name": "nuffield-2025",
   "language": "python",
   "name": "python3"
  },
  "language_info": {
   "codemirror_mode": {
    "name": "ipython",
    "version": 3
   },
   "file_extension": ".py",
   "mimetype": "text/x-python",
   "name": "python",
   "nbconvert_exporter": "python",
   "pygments_lexer": "ipython3",
   "version": "3.13.2"
  }
 },
 "nbformat": 4,
 "nbformat_minor": 5
}
